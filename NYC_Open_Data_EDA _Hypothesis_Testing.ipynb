{
 "cells": [
  {
   "cell_type": "markdown",
   "metadata": {},
   "source": [
    "#### Requirements: Investigate NYC Department of Buildings Dataset permits dataset, merge with other datasets and test hypotheses."
   ]
  },
  {
   "cell_type": "code",
   "execution_count": 1,
   "metadata": {},
   "outputs": [],
   "source": [
    "import pandas as pd\n",
    "import seaborn as sns\n",
    "import datetime as datetime\n",
    "import matplotlib.pyplot as plt\n",
    "from dateutil import relativedelta\n",
    "import numpy as np\n",
    "import statsmodels.api as sm\n",
    "from scipy import stats"
   ]
  },
  {
   "cell_type": "markdown",
   "metadata": {},
   "source": [
    "##### Read the DOB Permit Issuance dataset"
   ]
  },
  {
   "cell_type": "code",
   "execution_count": 2,
   "metadata": {},
   "outputs": [
    {
     "name": "stderr",
     "output_type": "stream",
     "text": [
      "c:\\users\\karan\\appdata\\local\\programs\\python\\python36\\lib\\site-packages\\IPython\\core\\interactiveshell.py:3020: DtypeWarning: Columns (1,8,9,10,15,25,31,33,34,35,36,51,52) have mixed types. Specify dtype option on import or set low_memory=False.\n",
      "  interactivity=interactivity, compiler=compiler, result=result)\n"
     ]
    }
   ],
   "source": [
    "df = pd.read_csv(\"DOB_Permit_Issuance.csv\")"
   ]
  },
  {
   "cell_type": "code",
   "execution_count": 3,
   "metadata": {},
   "outputs": [
    {
     "data": {
      "text/html": [
       "<div>\n",
       "<style scoped>\n",
       "    .dataframe tbody tr th:only-of-type {\n",
       "        vertical-align: middle;\n",
       "    }\n",
       "\n",
       "    .dataframe tbody tr th {\n",
       "        vertical-align: top;\n",
       "    }\n",
       "\n",
       "    .dataframe thead th {\n",
       "        text-align: right;\n",
       "    }\n",
       "</style>\n",
       "<table border=\"1\" class=\"dataframe\">\n",
       "  <thead>\n",
       "    <tr style=\"text-align: right;\">\n",
       "      <th></th>\n",
       "      <th>BOROUGH</th>\n",
       "      <th>Bin #</th>\n",
       "      <th>House #</th>\n",
       "      <th>Street Name</th>\n",
       "      <th>Job #</th>\n",
       "      <th>Job doc. #</th>\n",
       "      <th>Job Type</th>\n",
       "      <th>Self_Cert</th>\n",
       "      <th>Block</th>\n",
       "      <th>Lot</th>\n",
       "      <th>...</th>\n",
       "      <th>Owner’s House State</th>\n",
       "      <th>Owner’s House Zip Code</th>\n",
       "      <th>Owner's Phone #</th>\n",
       "      <th>DOBRunDate</th>\n",
       "      <th>PERMIT_SI_NO</th>\n",
       "      <th>LATITUDE</th>\n",
       "      <th>LONGITUDE</th>\n",
       "      <th>COUNCIL_DISTRICT</th>\n",
       "      <th>CENSUS_TRACT</th>\n",
       "      <th>NTA_NAME</th>\n",
       "    </tr>\n",
       "  </thead>\n",
       "  <tbody>\n",
       "    <tr>\n",
       "      <th>0</th>\n",
       "      <td>BRONX</td>\n",
       "      <td>2102476</td>\n",
       "      <td>200</td>\n",
       "      <td>E 135TH STREET</td>\n",
       "      <td>240249842</td>\n",
       "      <td>1</td>\n",
       "      <td>A2</td>\n",
       "      <td>Y</td>\n",
       "      <td>2319</td>\n",
       "      <td>120</td>\n",
       "      <td>...</td>\n",
       "      <td>PA</td>\n",
       "      <td>19355</td>\n",
       "      <td>6.10401e+09</td>\n",
       "      <td>03/27/2019 12:00:00 AM</td>\n",
       "      <td>3608996</td>\n",
       "      <td>40.810699</td>\n",
       "      <td>-73.931313</td>\n",
       "      <td>8.0</td>\n",
       "      <td>51.0</td>\n",
       "      <td>Mott Haven-Port Morris</td>\n",
       "    </tr>\n",
       "    <tr>\n",
       "      <th>1</th>\n",
       "      <td>MANHATTAN</td>\n",
       "      <td>1090833</td>\n",
       "      <td>249</td>\n",
       "      <td>WEST 14 STREET</td>\n",
       "      <td>140818435</td>\n",
       "      <td>1</td>\n",
       "      <td>A3</td>\n",
       "      <td>Y</td>\n",
       "      <td>764</td>\n",
       "      <td>10</td>\n",
       "      <td>...</td>\n",
       "      <td>NY</td>\n",
       "      <td>11101</td>\n",
       "      <td>7.18392e+09</td>\n",
       "      <td>03/27/2019 12:00:00 AM</td>\n",
       "      <td>3609359</td>\n",
       "      <td>40.739151</td>\n",
       "      <td>-74.001075</td>\n",
       "      <td>3.0</td>\n",
       "      <td>81.0</td>\n",
       "      <td>Hudson Yards-Chelsea-Flatiron-Union Square</td>\n",
       "    </tr>\n",
       "    <tr>\n",
       "      <th>2</th>\n",
       "      <td>MANHATTAN</td>\n",
       "      <td>1015903</td>\n",
       "      <td>20</td>\n",
       "      <td>WEST 36TH STREET</td>\n",
       "      <td>123372466</td>\n",
       "      <td>2</td>\n",
       "      <td>A2</td>\n",
       "      <td>Y</td>\n",
       "      <td>837</td>\n",
       "      <td>58</td>\n",
       "      <td>...</td>\n",
       "      <td>NY</td>\n",
       "      <td>10021</td>\n",
       "      <td>2.12249e+09</td>\n",
       "      <td>03/27/2019 12:00:00 AM</td>\n",
       "      <td>3609159</td>\n",
       "      <td>40.750090</td>\n",
       "      <td>-73.984513</td>\n",
       "      <td>4.0</td>\n",
       "      <td>84.0</td>\n",
       "      <td>Midtown-Midtown South</td>\n",
       "    </tr>\n",
       "    <tr>\n",
       "      <th>3</th>\n",
       "      <td>QUEENS</td>\n",
       "      <td>4467709</td>\n",
       "      <td>14-30</td>\n",
       "      <td>BROADWAY</td>\n",
       "      <td>421105618</td>\n",
       "      <td>1</td>\n",
       "      <td>A2</td>\n",
       "      <td>Y</td>\n",
       "      <td>529</td>\n",
       "      <td>2</td>\n",
       "      <td>...</td>\n",
       "      <td>NY</td>\n",
       "      <td>11101</td>\n",
       "      <td>7.18473e+09</td>\n",
       "      <td>03/27/2019 12:00:00 AM</td>\n",
       "      <td>3609358</td>\n",
       "      <td>40.765826</td>\n",
       "      <td>-73.932800</td>\n",
       "      <td>22.0</td>\n",
       "      <td>45.0</td>\n",
       "      <td>Astoria</td>\n",
       "    </tr>\n",
       "    <tr>\n",
       "      <th>4</th>\n",
       "      <td>QUEENS</td>\n",
       "      <td>4048873</td>\n",
       "      <td>42-06</td>\n",
       "      <td>108 STREET</td>\n",
       "      <td>421024689</td>\n",
       "      <td>1</td>\n",
       "      <td>A1</td>\n",
       "      <td>N</td>\n",
       "      <td>1986</td>\n",
       "      <td>37</td>\n",
       "      <td>...</td>\n",
       "      <td>NY</td>\n",
       "      <td>11368</td>\n",
       "      <td>7.18279e+09</td>\n",
       "      <td>03/27/2019 12:00:00 AM</td>\n",
       "      <td>3606599</td>\n",
       "      <td>40.749221</td>\n",
       "      <td>-73.858003</td>\n",
       "      <td>21.0</td>\n",
       "      <td>403.0</td>\n",
       "      <td>North Corona</td>\n",
       "    </tr>\n",
       "  </tbody>\n",
       "</table>\n",
       "<p>5 rows × 60 columns</p>\n",
       "</div>"
      ],
      "text/plain": [
       "     BOROUGH    Bin # House #       Street Name      Job #  Job doc. #  \\\n",
       "0      BRONX  2102476     200    E 135TH STREET  240249842           1   \n",
       "1  MANHATTAN  1090833     249    WEST 14 STREET  140818435           1   \n",
       "2  MANHATTAN  1015903      20  WEST 36TH STREET  123372466           2   \n",
       "3     QUEENS  4467709   14-30          BROADWAY  421105618           1   \n",
       "4     QUEENS  4048873   42-06        108 STREET  421024689           1   \n",
       "\n",
       "  Job Type Self_Cert Block  Lot                     ...                      \\\n",
       "0       A2         Y  2319  120                     ...                       \n",
       "1       A3         Y   764   10                     ...                       \n",
       "2       A2         Y   837   58                     ...                       \n",
       "3       A2         Y   529    2                     ...                       \n",
       "4       A1         N  1986   37                     ...                       \n",
       "\n",
       "  Owner’s House State  Owner’s House Zip Code  Owner's Phone #  \\\n",
       "0                  PA                   19355      6.10401e+09   \n",
       "1                  NY                   11101      7.18392e+09   \n",
       "2                  NY                   10021      2.12249e+09   \n",
       "3                  NY                   11101      7.18473e+09   \n",
       "4                  NY                   11368      7.18279e+09   \n",
       "\n",
       "               DOBRunDate PERMIT_SI_NO   LATITUDE  LONGITUDE COUNCIL_DISTRICT  \\\n",
       "0  03/27/2019 12:00:00 AM      3608996  40.810699 -73.931313              8.0   \n",
       "1  03/27/2019 12:00:00 AM      3609359  40.739151 -74.001075              3.0   \n",
       "2  03/27/2019 12:00:00 AM      3609159  40.750090 -73.984513              4.0   \n",
       "3  03/27/2019 12:00:00 AM      3609358  40.765826 -73.932800             22.0   \n",
       "4  03/27/2019 12:00:00 AM      3606599  40.749221 -73.858003             21.0   \n",
       "\n",
       "  CENSUS_TRACT                                    NTA_NAME  \n",
       "0         51.0                      Mott Haven-Port Morris  \n",
       "1         81.0  Hudson Yards-Chelsea-Flatiron-Union Square  \n",
       "2         84.0                       Midtown-Midtown South  \n",
       "3         45.0                                     Astoria  \n",
       "4        403.0                                North Corona  \n",
       "\n",
       "[5 rows x 60 columns]"
      ]
     },
     "execution_count": 3,
     "metadata": {},
     "output_type": "execute_result"
    }
   ],
   "source": [
    "df.head() ### print first 5 rows of dataset"
   ]
  },
  {
   "cell_type": "code",
   "execution_count": 4,
   "metadata": {},
   "outputs": [
    {
     "data": {
      "text/plain": [
       "Index(['BOROUGH', 'Bin #', 'House #', 'Street Name', 'Job #', 'Job doc. #',\n",
       "       'Job Type', 'Self_Cert', 'Block', 'Lot', 'Community Board', 'Zip Code',\n",
       "       'Bldg Type', 'Residential', 'Special District 1', 'Special District 2',\n",
       "       'Work Type', 'Permit Status', 'Filing Status', 'Permit Type',\n",
       "       'Permit Sequence #', 'Permit Subtype', 'Oil Gas', 'Site Fill',\n",
       "       'Filing Date', 'Issuance Date', 'Expiration Date', 'Job Start Date',\n",
       "       'Permittee's First Name', 'Permittee's Last Name',\n",
       "       'Permittee's Business Name', 'Permittee's Phone #',\n",
       "       'Permittee's License Type', 'Permittee's License #',\n",
       "       'Act as Superintendent', 'Permittee's Other Title', 'HIC License',\n",
       "       'Site Safety Mgr's First Name', 'Site Safety Mgr's Last Name',\n",
       "       'Site Safety Mgr Business Name', 'Superintendent First & Last Name',\n",
       "       'Superintendent Business Name', 'Owner's Business Type', 'Non-Profit',\n",
       "       'Owner's Business Name', 'Owner's First Name', 'Owner's Last Name',\n",
       "       'Owner's House #', 'Owner's House Street Name', 'Owner’s House City',\n",
       "       'Owner’s House State', 'Owner’s House Zip Code', 'Owner's Phone #',\n",
       "       'DOBRunDate', 'PERMIT_SI_NO', 'LATITUDE', 'LONGITUDE',\n",
       "       'COUNCIL_DISTRICT', 'CENSUS_TRACT', 'NTA_NAME'],\n",
       "      dtype='object')"
      ]
     },
     "execution_count": 4,
     "metadata": {},
     "output_type": "execute_result"
    }
   ],
   "source": [
    "df.columns ### Print columns in dataset"
   ]
  },
  {
   "cell_type": "markdown",
   "metadata": {},
   "source": [
    "#### 1. EXPLORATORY DATA ANALYSIS"
   ]
  },
  {
   "cell_type": "markdown",
   "metadata": {},
   "source": [
    "#### 1.1 Explore count of permits with respect to available columns such as borough, job type, permit type, etc"
   ]
  },
  {
   "cell_type": "code",
   "execution_count": 5,
   "metadata": {},
   "outputs": [
    {
     "data": {
      "text/plain": [
       "Text(0.5, 1.0, 'Count of no. of permits by Borough')"
      ]
     },
     "execution_count": 5,
     "metadata": {},
     "output_type": "execute_result"
    },
    {
     "data": {
      "image/png": "[encoded data removed]",
      "text/plain": [
       "<Figure size 432x288 with 1 Axes>"
      ]
     },
     "metadata": {
      "needs_background": "light"
     },
     "output_type": "display_data"
    }
   ],
   "source": [
    "sns.countplot(x=\"BOROUGH\",data=df).set_title(\"Count of no. of permits by Borough\")"
   ]
  },
  {
   "cell_type": "markdown",
   "metadata": {},
   "source": [
    "##### Manhattan has had the highest number of permits and Staten Island has had the least number of permits. "
   ]
  },
  {
   "cell_type": "code",
   "execution_count": 6,
   "metadata": {},
   "outputs": [
    {
     "name": "stdout",
     "output_type": "stream",
     "text": [
      "Percentage missing in Borough column: 0.0\n"
     ]
    }
   ],
   "source": [
    "print(\"Percentage missing in Borough column: \"+str(df['BOROUGH'].isna().sum()/len(df['BOROUGH'])))"
   ]
  },
  {
   "cell_type": "code",
   "execution_count": 7,
   "metadata": {},
   "outputs": [
    {
     "data": {
      "text/plain": [
       "Text(0.5, 1.0, 'Count of no. of permits by Building Type')"
      ]
     },
     "execution_count": 7,
     "metadata": {},
     "output_type": "execute_result"
    },
    {
     "data": {
      "image/png": "[encoded data removed]",
      "text/plain": [
       "<Figure size 432x288 with 1 Axes>"
      ]
     },
     "metadata": {
      "needs_background": "light"
     },
     "output_type": "display_data"
    }
   ],
   "source": [
    "sns.countplot(x=\"Bldg Type\",data=df).set_title(\"Count of no. of permits by Building Type\")"
   ]
  },
  {
   "cell_type": "markdown",
   "metadata": {},
   "source": [
    "##### Expected values of building type are:1 = 1-2-3 Family, 2 = Other. We can see that no. of permits for building type \"Other\" is greater than no. of permits for building type \"Family\"."
   ]
  },
  {
   "cell_type": "code",
   "execution_count": 8,
   "metadata": {},
   "outputs": [
    {
     "name": "stdout",
     "output_type": "stream",
     "text": [
      "Percentage missing in building type column: 0.015528259254117938\n"
     ]
    }
   ],
   "source": [
    "print(\"Percentage missing in building type column: \"+str(df['Bldg Type'].isna().sum()/len(df['Bldg Type'])))"
   ]
  },
  {
   "cell_type": "code",
   "execution_count": 9,
   "metadata": {},
   "outputs": [
    {
     "data": {
      "text/plain": [
       "Text(0.5, 1.0, 'Count of no. of permits by Permit Status')"
      ]
     },
     "execution_count": 9,
     "metadata": {},
     "output_type": "execute_result"
    },
    {
     "data": {
      "image/png": "[encoded data removed]",
      "text/plain": [
       "<Figure size 432x288 with 1 Axes>"
      ]
     },
     "metadata": {
      "needs_background": "light"
     },
     "output_type": "display_data"
    }
   ],
   "source": [
    "sns.countplot(x='Permit Status',data=df).set_title(\"Count of no. of permits by Permit Status\")"
   ]
  },
  {
   "cell_type": "markdown",
   "metadata": {},
   "source": [
    "##### We can see that most permits were issued, a small no. of permits were reissued, a small no. of permits are in process and a negligient no. of permits have been revoked."
   ]
  },
  {
   "cell_type": "code",
   "execution_count": 10,
   "metadata": {},
   "outputs": [
    {
     "name": "stdout",
     "output_type": "stream",
     "text": [
      "Percentage missing in Permit Status column: 0.0030821643503639567\n"
     ]
    }
   ],
   "source": [
    "print(\"Percentage missing in Permit Status column: \"+str(df['Permit Status'].isna().sum()/len(df['Permit Status'])))"
   ]
  },
  {
   "cell_type": "code",
   "execution_count": 11,
   "metadata": {},
   "outputs": [
    {
     "data": {
      "text/plain": [
       "Text(0.5, 1.0, 'Count of no. of permits by Filing Status')"
      ]
     },
     "execution_count": 11,
     "metadata": {},
     "output_type": "execute_result"
    },
    {
     "data": {
      "image/png": "[encoded data removed]",
      "text/plain": [
       "<Figure size 432x288 with 1 Axes>"
      ]
     },
     "metadata": {
      "needs_background": "light"
     },
     "output_type": "display_data"
    }
   ],
   "source": [
    "sns.countplot(x='Filing Status',data=df).set_title(\"Count of no. of permits by Filing Status\")"
   ]
  },
  {
   "cell_type": "markdown",
   "metadata": {},
   "source": [
    "##### We can see that the no. of permits with Filing Status Initial is more than no. of permits up for renewal. "
   ]
  },
  {
   "cell_type": "code",
   "execution_count": 12,
   "metadata": {},
   "outputs": [
    {
     "name": "stdout",
     "output_type": "stream",
     "text": [
      "Percentage missing in Filing Status Column: 0.0\n"
     ]
    }
   ],
   "source": [
    "print(\"Percentage missing in Filing Status Column: \"+str(df['Filing Status'].isna().sum()/len(df['Filing Status'])))"
   ]
  },
  {
   "cell_type": "code",
   "execution_count": 13,
   "metadata": {},
   "outputs": [
    {
     "data": {
      "text/plain": [
       "Text(0.5, 1.0, 'Count of no. of permits by Permit Type')"
      ]
     },
     "execution_count": 13,
     "metadata": {},
     "output_type": "execute_result"
    },
    {
     "data": {
      "image/png": "[encoded data removed]",
      "text/plain": [
       "<Figure size 432x288 with 1 Axes>"
      ]
     },
     "metadata": {
      "needs_background": "light"
     },
     "output_type": "display_data"
    }
   ],
   "source": [
    "sns.countplot(x='Permit Type',data=df).set_title(\"Count of no. of permits by Permit Type\")"
   ]
  },
  {
   "cell_type": "markdown",
   "metadata": {},
   "source": [
    "##### The expected values are PL: Plumbing, EQ: Contruction equipment, EW: Equipment Work, AL: Alteration, FO: Foundation, NB: New Building, DM: Demolition, SG: Sign. We can see that most permits have type Equipment work.  The least no. of permits have type Foundation. Even permits with type Demolition is low. "
   ]
  },
  {
   "cell_type": "code",
   "execution_count": 14,
   "metadata": {},
   "outputs": [
    {
     "name": "stdout",
     "output_type": "stream",
     "text": [
      "Percentage missing in Permit Type column: 2.850424813062015e-07\n"
     ]
    }
   ],
   "source": [
    "print(\"Percentage missing in Permit Type column: \"+str(df['Permit Type'].isna().sum()/len(df['Permit Type'])))"
   ]
  },
  {
   "cell_type": "code",
   "execution_count": 15,
   "metadata": {},
   "outputs": [
    {
     "data": {
      "text/plain": [
       "Text(0.5, 1.0, 'Count of no. of permits by Permit Subtype')"
      ]
     },
     "execution_count": 15,
     "metadata": {},
     "output_type": "execute_result"
    },
    {
     "data": {
      "image/png": "[encoded data removed]",
      "text/plain": [
       "<Figure size 432x288 with 1 Axes>"
      ]
     },
     "metadata": {
      "needs_background": "light"
     },
     "output_type": "display_data"
    }
   ],
   "source": [
    "sns.countplot(x='Permit Subtype',data=df).set_title(\"Count of no. of permits by Permit Subtype\")"
   ]
  },
  {
   "cell_type": "markdown",
   "metadata": {},
   "source": [
    "##### The expected values are BL: Boiler, CC:Curb Cut, CH:Chute, DM:Demolition and Removal, EQ:Construction Equipment, EW:Equipment Work, FA:Fire Alarm, FB:Fuel Burning, FN:Fence, FP:Fire Suppression, FS:Fuel Storage, MH:Mechanical/HVAC, OT:Other, PL:Plumbing, SD:Standpipe, SF:Scaffold, SG:Sign, SP:Sprinkler. We can see that most permits are of subtype Other followed by Mechanical and Fence"
   ]
  },
  {
   "cell_type": "code",
   "execution_count": 16,
   "metadata": {},
   "outputs": [
    {
     "name": "stdout",
     "output_type": "stream",
     "text": [
      "Percentage missing in Permit Subtype column: 0.3971813289193555\n"
     ]
    }
   ],
   "source": [
    "print(\"Percentage missing in Permit Subtype column: \"+str(df['Permit Subtype'].isna().sum()/len(df['Permit Subtype'])))"
   ]
  },
  {
   "cell_type": "markdown",
   "metadata": {},
   "source": [
    "##### Almost 40 percent values are missing in this column."
   ]
  },
  {
   "cell_type": "code",
   "execution_count": 17,
   "metadata": {},
   "outputs": [
    {
     "data": {
      "text/plain": [
       "Text(0.5, 1.0, 'Count of no. of permits by Work Type')"
      ]
     },
     "execution_count": 17,
     "metadata": {},
     "output_type": "execute_result"
    },
    {
     "data": {
      "image/png": "[encoded data removed]",
      "text/plain": [
       "<Figure size 432x288 with 1 Axes>"
      ]
     },
     "metadata": {
      "needs_background": "light"
     },
     "output_type": "display_data"
    }
   ],
   "source": [
    "sns.countplot(x='Work Type',data=df).set_title(\"Count of no. of permits by Work Type\")"
   ]
  },
  {
   "cell_type": "markdown",
   "metadata": {},
   "source": [
    "##### The expected values are BL: Boiler, CC:Curb Cut, CH:Chute, DM:Demolition and Removal, EQ:Construction Equipment, EW:Equipment Work, FA:Fire Alarm, FB:Fuel Burning, FN:Fence, FP:Fire Suppression, FS:Fuel Storage, MH:Mechanical/HVAC, OT:Other, PL:Plumbing, SD:Standpipe, SF:Scaffold, SG:Sign, SP:Sprinkler. We can see that most permits are of work type Other followed by Plumbing."
   ]
  },
  {
   "cell_type": "code",
   "execution_count": 18,
   "metadata": {},
   "outputs": [
    {
     "name": "stdout",
     "output_type": "stream",
     "text": [
      "Percantage missing in column Work Type: 0.17379524657457324\n"
     ]
    }
   ],
   "source": [
    "print(\"Percantage missing in column Work Type: \"+str(df['Work Type'].isna().sum()/len(df['Work Type'])))"
   ]
  },
  {
   "cell_type": "code",
   "execution_count": 19,
   "metadata": {},
   "outputs": [
    {
     "data": {
      "text/plain": [
       "Text(0.5, 1.0, 'Count of no. of permits by Job Type')"
      ]
     },
     "execution_count": 19,
     "metadata": {},
     "output_type": "execute_result"
    },
    {
     "data": {
      "image/png": "[encoded data removed]",
      "text/plain": [
       "<Figure size 432x288 with 1 Axes>"
      ]
     },
     "metadata": {
      "needs_background": "light"
     },
     "output_type": "display_data"
    }
   ],
   "source": [
    "sns.countplot(x='Job Type',data=df).set_title(\"Count of no. of permits by Job Type\")"
   ]
  },
  {
   "cell_type": "markdown",
   "metadata": {},
   "source": [
    "##### The expected values are : Expected values are:A1 = Alteration Type I, A major alteration that will change the use, egress, or occupancy of the building. A2 = Alteration Type II, An application with multiple types of work that do not affect the use, egress, or occupancy of the building. A3 = Alteration Type III, One type of minor work that doesn't affect the use, egress, or occupancy of the building. NB = New Building, An application to build a new structure. “NB” cannot be selected if any existing building elements are to remain—for example a part of an old foundation, a portion of a façade that will be incorporated into the construction, etc. DM = Demolition, An application to fully or partially demolish an existing building. SG = Sign, An application to install or remove an outdoor sign. We can see that most no. of permits have job type A2 which is alteration type 2. Very few permits have job type demolition and sign. A1, NB and DM job types are associated with major construction activity. A2, A3 and Sign are associated with minor construction activity."
   ]
  },
  {
   "cell_type": "code",
   "execution_count": 20,
   "metadata": {},
   "outputs": [
    {
     "name": "stdout",
     "output_type": "stream",
     "text": [
      "Percentage missing in Job Type column: 0.0\n"
     ]
    }
   ],
   "source": [
    "print(\"Percentage missing in Job Type column: \"+str(df['Job Type'].isna().sum()/len(df['Job Type'])))"
   ]
  },
  {
   "cell_type": "code",
   "execution_count": 21,
   "metadata": {},
   "outputs": [
    {
     "data": {
      "text/plain": [
       "Text(0.5, 1.0, 'Count of no. of permits by Residential')"
      ]
     },
     "execution_count": 21,
     "metadata": {},
     "output_type": "execute_result"
    },
    {
     "data": {
      "image/png": "[encoded data removed]",
      "text/plain": [
       "<Figure size 432x288 with 1 Axes>"
      ]
     },
     "metadata": {
      "needs_background": "light"
     },
     "output_type": "display_data"
    }
   ],
   "source": [
    "sns.countplot(x='Residential',data=df).set_title(\"Count of no. of permits by Residential\")"
   ]
  },
  {
   "cell_type": "markdown",
   "metadata": {},
   "source": [
    "##### The expected value is Yes or missing. We know that almost 40 percent of the buildings for which permit was issued were residential but the data is missing for the other 60 percent of buildings ie. they can be residential or non-residential. "
   ]
  },
  {
   "cell_type": "code",
   "execution_count": 22,
   "metadata": {},
   "outputs": [
    {
     "name": "stdout",
     "output_type": "stream",
     "text": [
      "Percent missing for Residential column: 0.6098743276204169\n"
     ]
    }
   ],
   "source": [
    "print(\"Percent missing for Residential column: \"+str(df['Residential'].isna().sum()/len(df['Residential'])))"
   ]
  },
  {
   "cell_type": "code",
   "execution_count": 23,
   "metadata": {},
   "outputs": [
    {
     "data": {
      "text/plain": [
       "Text(0.5, 1.0, 'Count of no. of permits by Oil /Gas')"
      ]
     },
     "execution_count": 23,
     "metadata": {},
     "output_type": "execute_result"
    },
    {
     "data": {
      "image/png": "[encoded data removed]",
      "text/plain": [
       "<Figure size 432x288 with 1 Axes>"
      ]
     },
     "metadata": {
      "needs_background": "light"
     },
     "output_type": "display_data"
    }
   ],
   "source": [
    "sns.countplot(x='Oil Gas',data=df).set_title(\"Count of no. of permits by Oil /Gas\")"
   ]
  },
  {
   "cell_type": "markdown",
   "metadata": {},
   "source": [
    "##### This column only has a value if fuel burning equipment was used in the work. We can see that most of the fuel burning equipment ran on oil as compared to gas. "
   ]
  },
  {
   "cell_type": "code",
   "execution_count": 24,
   "metadata": {},
   "outputs": [
    {
     "name": "stdout",
     "output_type": "stream",
     "text": [
      "Percentage missing for Oil Gas column: 0.9891270545505749\n"
     ]
    }
   ],
   "source": [
    "print(\"Percentage missing for Oil Gas column: \"+str(df['Oil Gas'].isna().sum()/len(df['Oil Gas'])))"
   ]
  },
  {
   "cell_type": "markdown",
   "metadata": {},
   "source": [
    "##### Almost 99 percent values are missing either because fuel burning equipment was not used or because the value is not known."
   ]
  },
  {
   "cell_type": "code",
   "execution_count": 25,
   "metadata": {},
   "outputs": [
    {
     "data": {
      "text/plain": [
       "Text(0.5, 1.0, 'Count of no. of permits by Non-Profit Indicator')"
      ]
     },
     "execution_count": 25,
     "metadata": {},
     "output_type": "execute_result"
    },
    {
     "data": {
      "image/png": "[encoded data removed]",
      "text/plain": [
       "<Figure size 432x288 with 1 Axes>"
      ]
     },
     "metadata": {
      "needs_background": "light"
     },
     "output_type": "display_data"
    }
   ],
   "source": [
    "sns.countplot(x='Non-Profit',data=df).set_title(\"Count of no. of permits by Non-Profit Indicator\")"
   ]
  },
  {
   "cell_type": "markdown",
   "metadata": {},
   "source": [
    "##### This column indicates whether the building is owned by a non-profit. We can see that most buildings are not owned by non-profits.  We also observe that there are some entry errors for this column in a few cases. "
   ]
  },
  {
   "cell_type": "code",
   "execution_count": 26,
   "metadata": {},
   "outputs": [
    {
     "name": "stdout",
     "output_type": "stream",
     "text": [
      "Percentage missing in Non Profit column: 0.04574903320716403\n"
     ]
    }
   ],
   "source": [
    "print(\"Percentage missing in Non Profit column: \"+str(df['Non-Profit'].isna().sum()/len(df['Non-Profit'])))"
   ]
  },
  {
   "cell_type": "markdown",
   "metadata": {},
   "source": [
    "#### 1.2 Use Filing Date, Issue Date, Expiration Date to calculate months to issue and months to expiry for each permit, calculate summary statistics and test hypotheses."
   ]
  },
  {
   "cell_type": "markdown",
   "metadata": {},
   "source": [
    "##### Extract year from Filing Date column and create a Filing Date Year column"
   ]
  },
  {
   "cell_type": "code",
   "execution_count": 27,
   "metadata": {},
   "outputs": [],
   "source": [
    "def getYear(row):\n",
    "    if isinstance(row,str):\n",
    "        return int(row[6:10])\n",
    "    else:\n",
    "        return row"
   ]
  },
  {
   "cell_type": "code",
   "execution_count": 28,
   "metadata": {},
   "outputs": [],
   "source": [
    "df['Filing Date Year']=df.apply(lambda row: getYear(row['Filing Date']),axis=1)"
   ]
  },
  {
   "cell_type": "markdown",
   "metadata": {},
   "source": [
    "##### Extract month from Filing Date column and create a Filing Date Month column"
   ]
  },
  {
   "cell_type": "code",
   "execution_count": 29,
   "metadata": {},
   "outputs": [],
   "source": [
    "def getMonth(row):\n",
    "    if isinstance(row,str):\n",
    "        return int(row[0:2])\n",
    "    else:\n",
    "        return row"
   ]
  },
  {
   "cell_type": "code",
   "execution_count": 30,
   "metadata": {},
   "outputs": [],
   "source": [
    "df['Filing Date Month']=df.apply(lambda row: getMonth(row['Filing Date']),axis=1)"
   ]
  },
  {
   "cell_type": "markdown",
   "metadata": {},
   "source": [
    "##### Create groupby object that groups by Filing Date Year and Filing Date Month and calculates count of permits and name dataframe returned as df_FilingDate"
   ]
  },
  {
   "cell_type": "code",
   "execution_count": 31,
   "metadata": {},
   "outputs": [],
   "source": [
    "df_FilingDate = pd.DataFrame(df.groupby(['Filing Date Year','Filing Date Month']).count()['Permit Status']).reset_index()"
   ]
  },
  {
   "cell_type": "markdown",
   "metadata": {},
   "source": [
    "##### Take Filing Date Year and Month column and create a new Date column that has day as 01, month as Filing Date Month and year as Filing Month. This is done to plot count of permits by month and year. "
   ]
  },
  {
   "cell_type": "code",
   "execution_count": 32,
   "metadata": {},
   "outputs": [],
   "source": [
    "def getDate(year, month):\n",
    "    return datetime.datetime.strptime(str(int(year))+\"-\"+str(int(month)), \"%Y-%m\")"
   ]
  },
  {
   "cell_type": "code",
   "execution_count": 33,
   "metadata": {},
   "outputs": [],
   "source": [
    "df_FilingDate['Date'] = df_FilingDate.apply(lambda row: getDate(row['Filing Date Year'],row['Filing Date Month']),axis=1)"
   ]
  },
  {
   "cell_type": "code",
   "execution_count": 34,
   "metadata": {},
   "outputs": [
    {
     "data": {
      "text/plain": [
       "[<matplotlib.lines.Line2D at 0x2860a9416d8>]"
      ]
     },
     "execution_count": 34,
     "metadata": {},
     "output_type": "execute_result"
    },
    {
     "data": {
      "image/png": "[encoded data removed]",
      "text/plain": [
       "<Figure size 432x288 with 1 Axes>"
      ]
     },
     "metadata": {
      "needs_background": "light"
     },
     "output_type": "display_data"
    }
   ],
   "source": [
    "plt.title(\"Count of permits by year of Filing Date\")\n",
    "plt.xlabel(\"Year\")\n",
    "plt.ylabel(\"Count of permits\")\n",
    "plt.plot(df_FilingDate[\"Date\"],df_FilingDate[\"Permit Status\"])"
   ]
  },
  {
   "cell_type": "markdown",
   "metadata": {},
   "source": [
    "##### We can see an upward trend in number of permits filed. We see a slight dip in no. of permits from 2008 to 2012. The dip after 2018 is because we only have 3 months of data for year 2019. "
   ]
  },
  {
   "cell_type": "markdown",
   "metadata": {},
   "source": [
    "##### Repeat procedure used above to plot count of permits by Issuance Date"
   ]
  },
  {
   "cell_type": "code",
   "execution_count": 35,
   "metadata": {},
   "outputs": [],
   "source": [
    "df['Issuance Date Year']=df.apply(lambda row: getYear(row['Issuance Date']),axis=1)"
   ]
  },
  {
   "cell_type": "code",
   "execution_count": 36,
   "metadata": {},
   "outputs": [],
   "source": [
    "df['Issuance Date Month']=df.apply(lambda row: getMonth(row['Issuance Date']),axis=1)"
   ]
  },
  {
   "cell_type": "code",
   "execution_count": 37,
   "metadata": {},
   "outputs": [],
   "source": [
    "df_IssuanceDate = pd.DataFrame(df.groupby(['Issuance Date Year','Issuance Date Month']).count()['Permit Status']).reset_index()"
   ]
  },
  {
   "cell_type": "code",
   "execution_count": 38,
   "metadata": {},
   "outputs": [],
   "source": [
    "df_IssuanceDate['Date'] = df_IssuanceDate.apply(lambda row: getDate(row['Issuance Date Year'],row['Issuance Date Month']),axis=1)"
   ]
  },
  {
   "cell_type": "code",
   "execution_count": 39,
   "metadata": {},
   "outputs": [
    {
     "data": {
      "text/plain": [
       "[<matplotlib.lines.Line2D at 0x28703950240>]"
      ]
     },
     "execution_count": 39,
     "metadata": {},
     "output_type": "execute_result"
    },
    {
     "data": {
      "image/png": "[encoded data removed]",
      "text/plain": [
       "<Figure size 432x288 with 1 Axes>"
      ]
     },
     "metadata": {
      "needs_background": "light"
     },
     "output_type": "display_data"
    }
   ],
   "source": [
    "plt.title(\"Count of permits by year of Issuance Date\")\n",
    "plt.xlabel(\"Year\")\n",
    "plt.ylabel(\"Count of permits\")\n",
    "plt.plot(df_IssuanceDate[\"Date\"],df_IssuanceDate[\"Permit Status\"])"
   ]
  },
  {
   "cell_type": "markdown",
   "metadata": {},
   "source": [
    "##### The curve for Issuance date mirrors the curve for Filling date. It has the same upward trend and same dips. This is because most permits that were filed were issued almost immediately."
   ]
  },
  {
   "cell_type": "markdown",
   "metadata": {},
   "source": [
    "##### Create function for finding difference in months between two dates. We observe that the Issuance data for some cases is earlier than Filing Date, probably an entry error. Thus we disregard those entries when calculating months between filing and issuance.  Same for issuance and expiry. "
   ]
  },
  {
   "cell_type": "code",
   "execution_count": 40,
   "metadata": {},
   "outputs": [],
   "source": [
    "def getDiff(date1,date2):\n",
    "    if isinstance(date1,str) and isinstance(date2,str):\n",
    "        date1 = datetime.datetime.strptime(date1[0:10],\"%m/%d/%Y\")\n",
    "        date2 = datetime.datetime.strptime(date2[0:10],\"%m/%d/%Y\")\n",
    "        if relativedelta.relativedelta(date2, date1).months>=0:\n",
    "            return relativedelta.relativedelta(date2, date1).months\n",
    "        else:\n",
    "            return np.nan\n",
    "    else:\n",
    "        return np.nan\n",
    "    "
   ]
  },
  {
   "cell_type": "markdown",
   "metadata": {},
   "source": [
    "##### Create column for months between Filing Date and Issuance Date"
   ]
  },
  {
   "cell_type": "code",
   "execution_count": 41,
   "metadata": {},
   "outputs": [],
   "source": [
    "df['Months To Issue']=df.apply(lambda row: getDiff(row['Filing Date'],row['Issuance Date']),axis=1)"
   ]
  },
  {
   "cell_type": "markdown",
   "metadata": {},
   "source": [
    "##### Create column for months between Issuance Date and Expiration Date"
   ]
  },
  {
   "cell_type": "code",
   "execution_count": 42,
   "metadata": {},
   "outputs": [],
   "source": [
    "df['Months To Expire']=df.apply(lambda row: getDiff(row['Issuance Date'],row['Expiration Date']),axis=1)"
   ]
  },
  {
   "cell_type": "code",
   "execution_count": 43,
   "metadata": {},
   "outputs": [
    {
     "data": {
      "text/plain": [
       "Text(0.5, 1.0, 'Univariate Distribution of Months to Expire')"
      ]
     },
     "execution_count": 43,
     "metadata": {},
     "output_type": "execute_result"
    },
    {
     "data": {
      "image/png": "[encoded data removed]",
      "text/plain": [
       "<Figure size 432x288 with 1 Axes>"
      ]
     },
     "metadata": {
      "needs_background": "light"
     },
     "output_type": "display_data"
    }
   ],
   "source": [
    "sns.distplot(df[~df['Months To Expire'].isna()]['Months To Expire']).set_title(\"Univariate Distribution of Months to Expire\")"
   ]
  },
  {
   "cell_type": "markdown",
   "metadata": {},
   "source": [
    "##### We can see that the months to expire of permit ranges from 0 to 11. Most permits have value 0 for months to expire followed by 11. "
   ]
  },
  {
   "cell_type": "code",
   "execution_count": 44,
   "metadata": {},
   "outputs": [
    {
     "data": {
      "text/plain": [
       "Text(0.5, 1.0, 'Univariate Distribution of Months to Issue')"
      ]
     },
     "execution_count": 44,
     "metadata": {},
     "output_type": "execute_result"
    },
    {
     "data": {
      "image/png": "[encoded data removed]",
      "text/plain": [
       "<Figure size 432x288 with 1 Axes>"
      ]
     },
     "metadata": {
      "needs_background": "light"
     },
     "output_type": "display_data"
    }
   ],
   "source": [
    "sns.distplot(df[~df['Months To Issue'].isna()]['Months To Issue'].tolist()).set_title(\"Univariate Distribution of Months to Issue\")"
   ]
  },
  {
   "cell_type": "markdown",
   "metadata": {},
   "source": [
    "##### We can see that the months to issue of permit ranges from 0 to 11. Almost all permits have value 0 for months to issue. This means almost all permits are issued in the same month as they are filed. "
   ]
  },
  {
   "cell_type": "markdown",
   "metadata": {},
   "source": [
    "##### Summary statistics for months to issue"
   ]
  },
  {
   "cell_type": "code",
   "execution_count": 45,
   "metadata": {},
   "outputs": [
    {
     "data": {
      "text/plain": [
       "count    3.488195e+06\n",
       "mean     4.973718e-02\n",
       "std      4.994175e-01\n",
       "min      0.000000e+00\n",
       "25%      0.000000e+00\n",
       "50%      0.000000e+00\n",
       "75%      0.000000e+00\n",
       "max      1.100000e+01\n",
       "Name: Months To Issue, dtype: float64"
      ]
     },
     "execution_count": 45,
     "metadata": {},
     "output_type": "execute_result"
    }
   ],
   "source": [
    "df['Months To Issue'].describe()"
   ]
  },
  {
   "cell_type": "markdown",
   "metadata": {},
   "source": [
    "##### Summary statistics for months to expire"
   ]
  },
  {
   "cell_type": "code",
   "execution_count": 46,
   "metadata": {},
   "outputs": [
    {
     "data": {
      "text/plain": [
       "count    3.488240e+06\n",
       "mean     4.786099e+00\n",
       "std      4.299800e+00\n",
       "min      0.000000e+00\n",
       "25%      0.000000e+00\n",
       "50%      4.000000e+00\n",
       "75%      9.000000e+00\n",
       "max      1.100000e+01\n",
       "Name: Months To Expire, dtype: float64"
      ]
     },
     "execution_count": 46,
     "metadata": {},
     "output_type": "execute_result"
    }
   ],
   "source": [
    "df['Months To Expire'].describe()"
   ]
  },
  {
   "cell_type": "markdown",
   "metadata": {},
   "source": [
    "##### We observe that months to issue is 0 in maximum cases. We conduct a one sample test with null hypothesis as mean of months to issue permit is 0. "
   ]
  },
  {
   "cell_type": "code",
   "execution_count": 47,
   "metadata": {},
   "outputs": [
    {
     "data": {
      "text/plain": [
       "Ttest_1sampResult(statistic=186.00207490733112, pvalue=0.0)"
      ]
     },
     "execution_count": 47,
     "metadata": {},
     "output_type": "execute_result"
    }
   ],
   "source": [
    "df_notna = df[~df['Months To Issue'].isna()]['Months To Issue'].tolist()\n",
    "stats.ttest_1samp(df_notna,0.0)"
   ]
  },
  {
   "cell_type": "markdown",
   "metadata": {},
   "source": [
    "##### We get p-value=0. Thus the null hypothesis is rejected. The mean of months to issue is not zero."
   ]
  },
  {
   "cell_type": "markdown",
   "metadata": {},
   "source": [
    "##### Is there a difference in average time to issue permit by Job Type. Maybe the average time to issue permit is more for work that requires major alterations(A1,NM,DM) as compared to minor alterations??"
   ]
  },
  {
   "cell_type": "code",
   "execution_count": 48,
   "metadata": {},
   "outputs": [
    {
     "data": {
      "text/plain": [
       "Job Type\n",
       "A1    0.076731\n",
       "A2    0.047034\n",
       "A3    0.030892\n",
       "DM    0.033990\n",
       "NB    0.058108\n",
       "SG    0.052216\n",
       "Name: Months To Issue, dtype: float64"
      ]
     },
     "execution_count": 48,
     "metadata": {},
     "output_type": "execute_result"
    }
   ],
   "source": [
    "df.groupby(['Job Type'])['Months To Issue'].mean()"
   ]
  },
  {
   "cell_type": "markdown",
   "metadata": {},
   "source": [
    "##### The average time to issue permit  is almost the same for all work types. "
   ]
  },
  {
   "cell_type": "code",
   "execution_count": 49,
   "metadata": {},
   "outputs": [
    {
     "data": {
      "text/plain": [
       "Job Type\n",
       "A1    4.705665\n",
       "A2    4.738120\n",
       "A3    4.929439\n",
       "DM    5.218445\n",
       "NB    4.869704\n",
       "SG    4.721766\n",
       "Name: Months To Expire, dtype: float64"
      ]
     },
     "execution_count": 49,
     "metadata": {},
     "output_type": "execute_result"
    }
   ],
   "source": [
    "df.groupby(['Job Type'])['Months To Expire'].mean()"
   ]
  },
  {
   "cell_type": "markdown",
   "metadata": {},
   "source": [
    "##### Similary the average time for permit to expire is also almost the same for all work types"
   ]
  },
  {
   "cell_type": "markdown",
   "metadata": {},
   "source": [
    "##### We conduct a two sample t-test to check if the average months to issue is same for major and minor construction work."
   ]
  },
  {
   "cell_type": "code",
   "execution_count": 50,
   "metadata": {},
   "outputs": [
    {
     "data": {
      "text/plain": [
       "Ttest_indResult(statistic=-27.66427459599139, pvalue=2.0822000484355399e-168)"
      ]
     },
     "execution_count": 50,
     "metadata": {},
     "output_type": "execute_result"
    }
   ],
   "source": [
    "df_notna = df[~df['Months To Issue'].isna()]\n",
    "df_minorwork = df_notna[df_notna[\"Job Type\"].isin([\"A2\",\"A3\",\"SG\"])]['Months To Issue'].tolist()\n",
    "df_majorwork = df_notna[df_notna[\"Job Type\"].isin([\"A1\",\"NB\",\"DM\"])]['Months To Issue'].tolist()\n",
    "stats.ttest_ind(df_minorwork,df_majorwork,equal_var=False)"
   ]
  },
  {
   "cell_type": "markdown",
   "metadata": {},
   "source": [
    "##### We get p vlaue < 0.05. Thus the null hypothesis is rejected. The average months to issue is not the same for major and minor construction activity"
   ]
  },
  {
   "cell_type": "markdown",
   "metadata": {},
   "source": [
    "##### Is there a difference in average time to issue permit by borough and Job Type? Maybe the time to issue the permit might be higher or lower in a particular borough. "
   ]
  },
  {
   "cell_type": "code",
   "execution_count": 51,
   "metadata": {},
   "outputs": [
    {
     "data": {
      "text/plain": [
       "BOROUGH        Job Type\n",
       "BRONX          A1          0.106894\n",
       "               A2          0.065992\n",
       "               A3          0.039058\n",
       "               DM          0.041177\n",
       "               NB          0.065468\n",
       "               SG          0.071061\n",
       "BROOKLYN       A1          0.078710\n",
       "               A2          0.053536\n",
       "               A3          0.034735\n",
       "               DM          0.036624\n",
       "               NB          0.060156\n",
       "               SG          0.051321\n",
       "MANHATTAN      A1          0.093414\n",
       "               A2          0.040335\n",
       "               A3          0.022553\n",
       "               DM          0.027062\n",
       "               NB          0.057977\n",
       "               SG          0.048114\n",
       "QUEENS         A1          0.065960\n",
       "               A2          0.055407\n",
       "               A3          0.044321\n",
       "               DM          0.042350\n",
       "               NB          0.059991\n",
       "               SG          0.057570\n",
       "STATEN ISLAND  A1          0.035772\n",
       "               A2          0.033976\n",
       "               A3          0.030923\n",
       "               DM          0.007734\n",
       "               NB          0.046389\n",
       "               SG          0.029263\n",
       "Name: Months To Issue, dtype: float64"
      ]
     },
     "execution_count": 51,
     "metadata": {},
     "output_type": "execute_result"
    }
   ],
   "source": [
    "df.groupby(['BOROUGH','Job Type'])['Months To Issue'].mean()"
   ]
  },
  {
   "cell_type": "markdown",
   "metadata": {},
   "source": [
    "##### We observe no outliers or unusual cases. The average time to issue the permit remains the same across boroughs and job types. "
   ]
  },
  {
   "cell_type": "code",
   "execution_count": 52,
   "metadata": {},
   "outputs": [
    {
     "data": {
      "text/plain": [
       "BOROUGH        Job Type\n",
       "BRONX          A1          4.719675\n",
       "               A2          4.698106\n",
       "               A3          4.991783\n",
       "               DM          5.273267\n",
       "               NB          4.892591\n",
       "               SG          4.678468\n",
       "BROOKLYN       A1          4.730077\n",
       "               A2          4.675122\n",
       "               A3          4.912654\n",
       "               DM          5.219267\n",
       "               NB          4.875840\n",
       "               SG          4.784631\n",
       "MANHATTAN      A1          4.929739\n",
       "               A2          4.823023\n",
       "               A3          4.934889\n",
       "               DM          5.321868\n",
       "               NB          4.541606\n",
       "               SG          4.598313\n",
       "QUEENS         A1          4.565818\n",
       "               A2          4.591744\n",
       "               A3          4.891037\n",
       "               DM          5.204359\n",
       "               NB          4.757708\n",
       "               SG          4.847420\n",
       "STATEN ISLAND  A1          4.567904\n",
       "               A2          4.497344\n",
       "               A3          5.001778\n",
       "               DM          5.131397\n",
       "               NB          5.141130\n",
       "               SG          4.911789\n",
       "Name: Months To Expire, dtype: float64"
      ]
     },
     "execution_count": 52,
     "metadata": {},
     "output_type": "execute_result"
    }
   ],
   "source": [
    "df.groupby(['BOROUGH','Job Type'])['Months To Expire'].mean()"
   ]
  },
  {
   "cell_type": "markdown",
   "metadata": {},
   "source": [
    "##### Similarly the average time for permit to expire also remains the same across boroughs and job types"
   ]
  },
  {
   "cell_type": "markdown",
   "metadata": {},
   "source": [
    "#### 1.3 Let's take a closer look at cases where Permit was revoked."
   ]
  },
  {
   "cell_type": "code",
   "execution_count": 53,
   "metadata": {},
   "outputs": [
    {
     "data": {
      "text/html": [
       "<div>\n",
       "<style scoped>\n",
       "    .dataframe tbody tr th:only-of-type {\n",
       "        vertical-align: middle;\n",
       "    }\n",
       "\n",
       "    .dataframe tbody tr th {\n",
       "        vertical-align: top;\n",
       "    }\n",
       "\n",
       "    .dataframe thead th {\n",
       "        text-align: right;\n",
       "    }\n",
       "</style>\n",
       "<table border=\"1\" class=\"dataframe\">\n",
       "  <thead>\n",
       "    <tr style=\"text-align: right;\">\n",
       "      <th></th>\n",
       "      <th>BOROUGH</th>\n",
       "      <th>Street Name</th>\n",
       "      <th>Job Type</th>\n",
       "      <th>Work Type</th>\n",
       "      <th>Filing Date Year</th>\n",
       "      <th>Owner's Business Name</th>\n",
       "      <th>Permittee's Business Name</th>\n",
       "    </tr>\n",
       "  </thead>\n",
       "  <tbody>\n",
       "    <tr>\n",
       "      <th>1103639</th>\n",
       "      <td>MANHATTAN</td>\n",
       "      <td>BOWERY</td>\n",
       "      <td>SG</td>\n",
       "      <td>NaN</td>\n",
       "      <td>2013.0</td>\n",
       "      <td>CPNY, LLC</td>\n",
       "      <td>CITY ELECT, SIGN ERECTORS</td>\n",
       "    </tr>\n",
       "    <tr>\n",
       "      <th>2615680</th>\n",
       "      <td>QUEENS</td>\n",
       "      <td>MAURICE AVENUE</td>\n",
       "      <td>NB</td>\n",
       "      <td>NaN</td>\n",
       "      <td>2002.0</td>\n",
       "      <td>NaN</td>\n",
       "      <td>NaN</td>\n",
       "    </tr>\n",
       "    <tr>\n",
       "      <th>2652101</th>\n",
       "      <td>QUEENS</td>\n",
       "      <td>13 STREET</td>\n",
       "      <td>A2</td>\n",
       "      <td>OT</td>\n",
       "      <td>2002.0</td>\n",
       "      <td>Bleeker Pastry</td>\n",
       "      <td>BLEEKER PASTRY</td>\n",
       "    </tr>\n",
       "    <tr>\n",
       "      <th>2652365</th>\n",
       "      <td>QUEENS</td>\n",
       "      <td>13 STREET</td>\n",
       "      <td>A2</td>\n",
       "      <td>MH</td>\n",
       "      <td>2002.0</td>\n",
       "      <td>Bleeker Pastry</td>\n",
       "      <td>BLEEKER PASTRY</td>\n",
       "    </tr>\n",
       "  </tbody>\n",
       "</table>\n",
       "</div>"
      ],
      "text/plain": [
       "           BOROUGH     Street Name Job Type Work Type  Filing Date Year  \\\n",
       "1103639  MANHATTAN          BOWERY       SG       NaN            2013.0   \n",
       "2615680     QUEENS  MAURICE AVENUE       NB       NaN            2002.0   \n",
       "2652101     QUEENS       13 STREET       A2        OT            2002.0   \n",
       "2652365     QUEENS       13 STREET       A2        MH            2002.0   \n",
       "\n",
       "        Owner's Business Name  Permittee's Business Name  \n",
       "1103639             CPNY, LLC  CITY ELECT, SIGN ERECTORS  \n",
       "2615680                   NaN                        NaN  \n",
       "2652101        Bleeker Pastry             BLEEKER PASTRY  \n",
       "2652365        Bleeker Pastry             BLEEKER PASTRY  "
      ]
     },
     "execution_count": 53,
     "metadata": {},
     "output_type": "execute_result"
    }
   ],
   "source": [
    "df[df['Permit Status']==\"REVOKED\"][[\"BOROUGH\",\"Street Name\",\"Job Type\",\"Work Type\",\"Filing Date Year\",\"Owner's Business Name\",\"Permittee's Business Name\"]]"
   ]
  },
  {
   "cell_type": "markdown",
   "metadata": {},
   "source": [
    "##### There are only four such cases. Out of four two cases involved the same building in Queens. The permit was rejected for minor alterations in the year 2002. Permit for a new building was also rejected in Queens in the year 2002."
   ]
  },
  {
   "cell_type": "markdown",
   "metadata": {},
   "source": [
    "#### 1.4 We will only focus on areas with major development activity now. What are some good areas to invest in real estate? A good indicator of this question is areas with major development activity"
   ]
  },
  {
   "cell_type": "markdown",
   "metadata": {},
   "source": [
    "##### Do the boroughs with more permits issued change if we focus on major development activity only ie. job type- NB, A1"
   ]
  },
  {
   "cell_type": "code",
   "execution_count": 54,
   "metadata": {},
   "outputs": [
    {
     "data": {
      "text/plain": [
       "Text(0.5, 1.0, 'No. of permits by Borough')"
      ]
     },
     "execution_count": 54,
     "metadata": {},
     "output_type": "execute_result"
    },
    {
     "data": {
      "image/png": "[encoded data removed]",
      "text/plain": [
       "<Figure size 432x288 with 1 Axes>"
      ]
     },
     "metadata": {
      "needs_background": "light"
     },
     "output_type": "display_data"
    }
   ],
   "source": [
    "sns.countplot(x=\"BOROUGH\",data=df,order = df['BOROUGH'].value_counts().index).set_title(\"No. of permits by Borough\")"
   ]
  },
  {
   "cell_type": "code",
   "execution_count": 55,
   "metadata": {},
   "outputs": [],
   "source": [
    "df_new_buildings = df[df['Job Type'].isin([\"NB\",\"A1\"])]"
   ]
  },
  {
   "cell_type": "code",
   "execution_count": 56,
   "metadata": {},
   "outputs": [
    {
     "data": {
      "text/plain": [
       "Text(0.5, 1.0, 'No. of permits for major development by Borough')"
      ]
     },
     "execution_count": 56,
     "metadata": {},
     "output_type": "execute_result"
    },
    {
     "data": {
      "image/png": "[encoded data removed]",
      "text/plain": [
       "<Figure size 432x288 with 1 Axes>"
      ]
     },
     "metadata": {
      "needs_background": "light"
     },
     "output_type": "display_data"
    }
   ],
   "source": [
    "sns.countplot(x=\"BOROUGH\",data=df_new_buildings,order = df_new_buildings['BOROUGH'].value_counts().index).set_title(\"No. of permits for major development by Borough\")"
   ]
  },
  {
   "cell_type": "markdown",
   "metadata": {},
   "source": [
    "##### The order of the boroughs does change if we focos on major development activity. Manhattan has the highest no. of overall permits but is fourth in no. of permits for major devlopment. Queens has the highest no. of permits issued for major development work. "
   ]
  },
  {
   "cell_type": "markdown",
   "metadata": {},
   "source": [
    "##### We can say that neighborhoods with major development work are the premium areas. Let's take a look at premium areas by decade at borough, neighborhood and zip code level."
   ]
  },
  {
   "cell_type": "markdown",
   "metadata": {},
   "source": [
    "##### Years-1980-2000"
   ]
  },
  {
   "cell_type": "code",
   "execution_count": 57,
   "metadata": {},
   "outputs": [],
   "source": [
    "year_list= [1989,1990,1991,1992,1993,1994,1995,1996,1997,1998,1999,2000]"
   ]
  },
  {
   "cell_type": "markdown",
   "metadata": {},
   "source": [
    "##### Boroughs with major development work"
   ]
  },
  {
   "cell_type": "code",
   "execution_count": 58,
   "metadata": {},
   "outputs": [
    {
     "data": {
      "text/plain": [
       "['QUEENS', 'BROOKLYN']"
      ]
     },
     "execution_count": 58,
     "metadata": {},
     "output_type": "execute_result"
    }
   ],
   "source": [
    "group_borough = df_new_buildings[df_new_buildings['Filing Date Year'].isin(year_list)].groupby(['BOROUGH'],as_index=False)[\"Permit Status\"].count().sort_values(\"Permit Status\", ascending=False)\n",
    "top2 = group_borough['BOROUGH'][:2].tolist()\n",
    "top2"
   ]
  },
  {
   "cell_type": "markdown",
   "metadata": {},
   "source": [
    "##### Neighborhoods with major development work"
   ]
  },
  {
   "cell_type": "code",
   "execution_count": 59,
   "metadata": {},
   "outputs": [
    {
     "data": {
      "text/plain": [
       "['Charleston-Richmond Valley-Tottenville',\n",
       " 'Arden Heights',\n",
       " 'Stuyvesant Heights',\n",
       " \"Annadale-Huguenot-Prince's Bay-Eltingville\",\n",
       " 'Borough Park',\n",
       " 'Rossville-Woodrow',\n",
       " 'Great Kills',\n",
       " 'Bedford',\n",
       " 'New Springville-Bloomfield-Travis',\n",
       " 'Upper West Side']"
      ]
     },
     "execution_count": 59,
     "metadata": {},
     "output_type": "execute_result"
    }
   ],
   "source": [
    "group_nta = df_new_buildings[df_new_buildings['Filing Date Year'].isin(year_list)].groupby(['NTA_NAME'],as_index=False)[\"Permit Status\"].count().sort_values(\"Permit Status\", ascending=False)\n",
    "top10 = group_nta['NTA_NAME'][:10].tolist()\n",
    "top10"
   ]
  },
  {
   "cell_type": "markdown",
   "metadata": {},
   "source": [
    "##### Zip Codes with major development work"
   ]
  },
  {
   "cell_type": "code",
   "execution_count": 60,
   "metadata": {},
   "outputs": [
    {
     "data": {
      "text/plain": [
       "[10312.0,\n",
       " 10309.0,\n",
       " 10314.0,\n",
       " 10305.0,\n",
       " 10306.0,\n",
       " 11221.0,\n",
       " 10307.0,\n",
       " 11233.0,\n",
       " 10459.0,\n",
       " 11207.0]"
      ]
     },
     "execution_count": 60,
     "metadata": {},
     "output_type": "execute_result"
    }
   ],
   "source": [
    "group_zip = df_new_buildings[df_new_buildings['Filing Date Year'].isin(year_list)].groupby(['Zip Code'],as_index=False)[\"Permit Status\"].count().sort_values(\"Permit Status\", ascending=False)\n",
    "top10 = group_zip['Zip Code'][:10].tolist()\n",
    "top10"
   ]
  },
  {
   "cell_type": "markdown",
   "metadata": {},
   "source": [
    "##### Did the premium areas change in the next decade?"
   ]
  },
  {
   "cell_type": "markdown",
   "metadata": {},
   "source": [
    "##### Years: 2000-2010"
   ]
  },
  {
   "cell_type": "code",
   "execution_count": 61,
   "metadata": {},
   "outputs": [],
   "source": [
    "year_list= [2001,2002,2003,2004,2005,2006,2007,2008,2009,2010]"
   ]
  },
  {
   "cell_type": "markdown",
   "metadata": {},
   "source": [
    "##### Boroughs with major development work"
   ]
  },
  {
   "cell_type": "code",
   "execution_count": 62,
   "metadata": {},
   "outputs": [
    {
     "data": {
      "text/plain": [
       "['QUEENS', 'BROOKLYN']"
      ]
     },
     "execution_count": 62,
     "metadata": {},
     "output_type": "execute_result"
    }
   ],
   "source": [
    "group_borough = df_new_buildings[df_new_buildings['Filing Date Year'].isin(year_list)].groupby(['BOROUGH'],as_index=False)[\"Permit Status\"].count().sort_values(\"Permit Status\", ascending=False)\n",
    "top2 = group_borough['BOROUGH'][:2].tolist()\n",
    "top2"
   ]
  },
  {
   "cell_type": "markdown",
   "metadata": {},
   "source": [
    "##### The boroughs did not change"
   ]
  },
  {
   "cell_type": "markdown",
   "metadata": {},
   "source": [
    "##### Neighborhoods with major development activity"
   ]
  },
  {
   "cell_type": "code",
   "execution_count": 63,
   "metadata": {},
   "outputs": [
    {
     "data": {
      "text/plain": [
       "['East New York',\n",
       " 'Bedford',\n",
       " 'Hammels-Arverne-Edgemere',\n",
       " 'Borough Park',\n",
       " 'Charleston-Richmond Valley-Tottenville',\n",
       " 'Bushwick South',\n",
       " 'Crown Heights North',\n",
       " 'South Ozone Park',\n",
       " 'Far Rockaway-Bayswater',\n",
       " 'South Jamaica']"
      ]
     },
     "execution_count": 63,
     "metadata": {},
     "output_type": "execute_result"
    }
   ],
   "source": [
    "group_nta = df_new_buildings[df_new_buildings['Filing Date Year'].isin(year_list)].groupby(['NTA_NAME'],as_index=False)[\"Permit Status\"].count().sort_values(\"Permit Status\", ascending=False)\n",
    "top10 = group_nta['NTA_NAME'][:10].tolist()\n",
    "top10"
   ]
  },
  {
   "cell_type": "markdown",
   "metadata": {},
   "source": [
    "##### The neighborhoods changed. Some new upcoming neighborhoods in this decade were East New York, Bedford, Bushwick South. Charleston-Richmond Valley-Tottenville, Bedford, Borough Park continued to have major development from the last decade."
   ]
  },
  {
   "cell_type": "markdown",
   "metadata": {},
   "source": [
    "##### Zip codes with major development activity"
   ]
  },
  {
   "cell_type": "code",
   "execution_count": 64,
   "metadata": {},
   "outputs": [
    {
     "data": {
      "text/plain": [
       "[10309.0,\n",
       " 11368.0,\n",
       " 11207.0,\n",
       " 10306.0,\n",
       " 10312.0,\n",
       " 11691.0,\n",
       " 11206.0,\n",
       " 11208.0,\n",
       " 11233.0,\n",
       " 11221.0]"
      ]
     },
     "execution_count": 64,
     "metadata": {},
     "output_type": "execute_result"
    }
   ],
   "source": [
    "group_zip = df_new_buildings[df_new_buildings['Filing Date Year'].isin(year_list)].groupby(['Zip Code'],as_index=False)[\"Permit Status\"].count().sort_values(\"Permit Status\", ascending=False)\n",
    "top10 = group_zip['Zip Code'][:10].tolist()\n",
    "top10"
   ]
  },
  {
   "cell_type": "markdown",
   "metadata": {},
   "source": [
    "##### Some premium zip codes remained the same- 10309,10312 and some changed-11691"
   ]
  },
  {
   "cell_type": "markdown",
   "metadata": {},
   "source": [
    "##### Did the premium neighborhoods change in the next decade?"
   ]
  },
  {
   "cell_type": "markdown",
   "metadata": {},
   "source": [
    "##### Years- 2011 to 2018"
   ]
  },
  {
   "cell_type": "code",
   "execution_count": 65,
   "metadata": {},
   "outputs": [],
   "source": [
    "year_list= [2011,2012,2013,2014,2015,2016,2017,2018]"
   ]
  },
  {
   "cell_type": "markdown",
   "metadata": {},
   "source": [
    "##### Boroughs with major development work"
   ]
  },
  {
   "cell_type": "code",
   "execution_count": 66,
   "metadata": {},
   "outputs": [
    {
     "data": {
      "text/plain": [
       "['BROOKLYN', 'QUEENS']"
      ]
     },
     "execution_count": 66,
     "metadata": {},
     "output_type": "execute_result"
    }
   ],
   "source": [
    "group_borough = df_new_buildings[df_new_buildings['Filing Date Year'].isin(year_list)].groupby(['BOROUGH'],as_index=False)[\"Permit Status\"].count().sort_values(\"Permit Status\", ascending=False)\n",
    "top2 = group_borough['BOROUGH'][:2].tolist()\n",
    "top2"
   ]
  },
  {
   "cell_type": "markdown",
   "metadata": {},
   "source": [
    "##### The top boroughs did not change but their order changed. Brooklyn overtook Queens in major development activity"
   ]
  },
  {
   "cell_type": "markdown",
   "metadata": {},
   "source": [
    "##### Neighborhoods with major development work"
   ]
  },
  {
   "cell_type": "code",
   "execution_count": 67,
   "metadata": {},
   "outputs": [
    {
     "data": {
      "text/plain": [
       "['Borough Park',\n",
       " 'Breezy Point-Belle Harbor-Rockaway Park-Broad Channel',\n",
       " 'Bedford',\n",
       " 'North Side-South Side',\n",
       " 'Bushwick South',\n",
       " 'Crown Heights North',\n",
       " 'SoHo-TriBeCa-Civic Center-Little Italy',\n",
       " 'Park Slope-Gowanus',\n",
       " 'Carroll Gardens-Columbia Street-Red Hook',\n",
       " 'Hudson Yards-Chelsea-Flatiron-Union Square']"
      ]
     },
     "execution_count": 67,
     "metadata": {},
     "output_type": "execute_result"
    }
   ],
   "source": [
    "group_nta = df_new_buildings[df_new_buildings['Filing Date Year'].isin(year_list)].groupby(['NTA_NAME'],as_index=False)[\"Permit Status\"].count().sort_values(\"Permit Status\", ascending=False)\n",
    "top10 = group_nta['NTA_NAME'][:10].tolist()\n",
    "top10"
   ]
  },
  {
   "cell_type": "markdown",
   "metadata": {},
   "source": [
    "##### Some new upcoming neighborhoods in this decade were: 'Breezy Point-Belle Harbor-Rockaway Park-Broad Channel' and 'North Side-South Side'. Borough park and bedford have shown major development activity in the last three decades consistently."
   ]
  },
  {
   "cell_type": "markdown",
   "metadata": {},
   "source": [
    "##### Zips with major development work"
   ]
  },
  {
   "cell_type": "code",
   "execution_count": 68,
   "metadata": {},
   "outputs": [
    {
     "data": {
      "text/plain": [
       "[11221.0,\n",
       " 11211.0,\n",
       " 11219.0,\n",
       " 11206.0,\n",
       " 11238.0,\n",
       " 11355.0,\n",
       " 11357.0,\n",
       " 11101.0,\n",
       " 11220.0,\n",
       " 10306.0]"
      ]
     },
     "execution_count": 68,
     "metadata": {},
     "output_type": "execute_result"
    }
   ],
   "source": [
    "group_zip = df_new_buildings[df_new_buildings['Filing Date Year'].isin(year_list)].groupby(['Zip Code'],as_index=False)[\"Permit Status\"].count().sort_values(\"Permit Status\", ascending=False)\n",
    "top10 = group_zip['Zip Code'][:10].tolist()\n",
    "top10"
   ]
  },
  {
   "cell_type": "markdown",
   "metadata": {},
   "source": [
    "##### Some upcoming zip codes in this decade are 11221,11211,11219."
   ]
  },
  {
   "cell_type": "markdown",
   "metadata": {},
   "source": [
    "#####  What are the top 10 neighborhoods with major development work in the last year?"
   ]
  },
  {
   "cell_type": "code",
   "execution_count": 69,
   "metadata": {},
   "outputs": [],
   "source": [
    "year_list= [2018,2019]"
   ]
  },
  {
   "cell_type": "markdown",
   "metadata": {},
   "source": [
    "##### Current top 10 upcoming neighborhoods with major development activity"
   ]
  },
  {
   "cell_type": "code",
   "execution_count": 70,
   "metadata": {},
   "outputs": [
    {
     "data": {
      "text/plain": [
       "['Borough Park',\n",
       " 'Bedford',\n",
       " 'Bushwick South',\n",
       " 'Crown Heights North',\n",
       " 'North Side-South Side',\n",
       " 'Park Slope-Gowanus',\n",
       " 'SoHo-TriBeCa-Civic Center-Little Italy',\n",
       " 'Stuyvesant Heights',\n",
       " 'Breezy Point-Belle Harbor-Rockaway Park-Broad Channel',\n",
       " 'Hudson Yards-Chelsea-Flatiron-Union Square']"
      ]
     },
     "execution_count": 70,
     "metadata": {},
     "output_type": "execute_result"
    }
   ],
   "source": [
    "group_nta = df_new_buildings[df_new_buildings['Filing Date Year'].isin(year_list)].groupby(['NTA_NAME'],as_index=False)[\"Permit Status\"].count().sort_values(\"Permit Status\", ascending=False)\n",
    "top10 = group_nta['NTA_NAME'][:10].tolist()\n",
    "top10"
   ]
  },
  {
   "cell_type": "markdown",
   "metadata": {},
   "source": [
    "#### 1.5 Which site safety company should you use? We can use historical data to see what safety companies have been used by the decade."
   ]
  },
  {
   "cell_type": "markdown",
   "metadata": {},
   "source": [
    "##### Top 10 site safety companies for 1989 to 1999"
   ]
  },
  {
   "cell_type": "code",
   "execution_count": 71,
   "metadata": {},
   "outputs": [],
   "source": [
    "year_list= [1989,1990,1991,1992,1993,1994,1995,1996,1997,1998,1999]"
   ]
  },
  {
   "cell_type": "code",
   "execution_count": 72,
   "metadata": {},
   "outputs": [
    {
     "data": {
      "text/plain": [
       "['SAME',\n",
       " 'LEHRER MCGOVERN BOVIS INC',\n",
       " 'HRH CONSTRUCTION',\n",
       " 'INSPECO INC',\n",
       " 'BOYNTON PLACE CONTRACTING CORP.',\n",
       " 'SCALA CONTRACTING',\n",
       " 'HRH CONSTRUCTION CORP.',\n",
       " 'SCALA CONTRACTING CO., INC.',\n",
       " 'S.F/PLM & HTNG',\n",
       " 'BLUEPRINT PLUMBING CORP.']"
      ]
     },
     "execution_count": 72,
     "metadata": {},
     "output_type": "execute_result"
    }
   ],
   "source": [
    "group_firesafety = df[df['Filing Date Year'].isin(year_list)].groupby(['Site Safety Mgr Business Name'],as_index=False)[\"Permit Status\"].count().sort_values(\"Permit Status\", ascending=False)\n",
    "top10 = group_firesafety['Site Safety Mgr Business Name'][:10].tolist()\n",
    "top10"
   ]
  },
  {
   "cell_type": "markdown",
   "metadata": {},
   "source": [
    "#### Top 10 site safety companies for 2000 to 2010"
   ]
  },
  {
   "cell_type": "code",
   "execution_count": 73,
   "metadata": {},
   "outputs": [],
   "source": [
    "year_list= [2000,2001,2002,2003,2004,2005,2006,2007,2008,2009,2010]"
   ]
  },
  {
   "cell_type": "code",
   "execution_count": 74,
   "metadata": {},
   "outputs": [
    {
     "data": {
      "text/plain": [
       "['BOVIS LEND LEASE',\n",
       " 'TOTAL SAFETY CONSULTING',\n",
       " 'SITE SAFETY LLC',\n",
       " 'NYC DEPT. OF BUILDINGS',\n",
       " 'SITE SAFETY, LLC',\n",
       " 'HOMELAND SAFETY CONSULTAN',\n",
       " 'PRO SAFETY SERVICES LLC',\n",
       " 'BOVIS LEND LEASE LMB INC',\n",
       " 'BOVIS LENDLEASE',\n",
       " 'HRH CONSTRUCTION LLC']"
      ]
     },
     "execution_count": 74,
     "metadata": {},
     "output_type": "execute_result"
    }
   ],
   "source": [
    "group_firesafety = df[df['Filing Date Year'].isin(year_list)].groupby(['Site Safety Mgr Business Name'],as_index=False)[\"Permit Status\"].count().sort_values(\"Permit Status\", ascending=False)\n",
    "top10 = group_firesafety['Site Safety Mgr Business Name'][:10].tolist()\n",
    "top10"
   ]
  },
  {
   "cell_type": "markdown",
   "metadata": {},
   "source": [
    "#### The top site safety companies totally changed in this decade."
   ]
  },
  {
   "cell_type": "markdown",
   "metadata": {},
   "source": [
    "#### Top 10 site safety companies for 2011 to 2019"
   ]
  },
  {
   "cell_type": "code",
   "execution_count": 75,
   "metadata": {},
   "outputs": [],
   "source": [
    "year_list= [2011,2012,2013,2014,2015,2016,2017,2018,2019]"
   ]
  },
  {
   "cell_type": "code",
   "execution_count": 76,
   "metadata": {},
   "outputs": [
    {
     "data": {
      "text/plain": [
       "['NYC DEPT. OF BUILDINGS',\n",
       " 'TOTAL SAFETY CONSULTING',\n",
       " 'SITE SAFETY LLC',\n",
       " 'SITE SAFETY, LLC',\n",
       " 'MENOTTI ENTERPRISE LLC',\n",
       " 'PRO SAFETY SERVICES LLC',\n",
       " 'CR SAFETY',\n",
       " 'CITY SAFETY COMPLIANCE',\n",
       " 'RD2 SITE SAFETY SERVICES',\n",
       " 'LEND LEASE']"
      ]
     },
     "execution_count": 76,
     "metadata": {},
     "output_type": "execute_result"
    }
   ],
   "source": [
    "group_firesafety = df[df['Filing Date Year'].isin(year_list)].groupby(['Site Safety Mgr Business Name'],as_index=False)[\"Permit Status\"].count().sort_values(\"Permit Status\", ascending=False)\n",
    "top10 = group_firesafety['Site Safety Mgr Business Name'][:10].tolist()\n",
    "top10"
   ]
  },
  {
   "cell_type": "markdown",
   "metadata": {},
   "source": [
    "#### Coampanies like NYC DOB, Total Safety Consulting, Site Safety LLC continue to do well from the last decade"
   ]
  },
  {
   "cell_type": "markdown",
   "metadata": {},
   "source": [
    "#### 2. STATISTICAL TESTING"
   ]
  },
  {
   "cell_type": "markdown",
   "metadata": {},
   "source": [
    "#### Let's narrow our focus to whether the no. of permits can be used as a predictor. Here correlation does not imply causation."
   ]
  },
  {
   "cell_type": "markdown",
   "metadata": {},
   "source": [
    "#### 2.1 Hypothesis 1) Is there a linear relationship between no. of permits and population"
   ]
  },
  {
   "cell_type": "markdown",
   "metadata": {},
   "source": [
    "##### Create dataframe of count of permits at neighborhood level for year 2010"
   ]
  },
  {
   "cell_type": "code",
   "execution_count": 77,
   "metadata": {},
   "outputs": [
    {
     "data": {
      "text/html": [
       "<div>\n",
       "<style scoped>\n",
       "    .dataframe tbody tr th:only-of-type {\n",
       "        vertical-align: middle;\n",
       "    }\n",
       "\n",
       "    .dataframe tbody tr th {\n",
       "        vertical-align: top;\n",
       "    }\n",
       "\n",
       "    .dataframe thead th {\n",
       "        text-align: right;\n",
       "    }\n",
       "</style>\n",
       "<table border=\"1\" class=\"dataframe\">\n",
       "  <thead>\n",
       "    <tr style=\"text-align: right;\">\n",
       "      <th></th>\n",
       "      <th>Permit Status</th>\n",
       "    </tr>\n",
       "    <tr>\n",
       "      <th>NTA_NAME</th>\n",
       "      <th></th>\n",
       "    </tr>\n",
       "  </thead>\n",
       "  <tbody>\n",
       "    <tr>\n",
       "      <th>Airport</th>\n",
       "      <td>16</td>\n",
       "    </tr>\n",
       "    <tr>\n",
       "      <th>Allerton-Pelham Gardens</th>\n",
       "      <td>167</td>\n",
       "    </tr>\n",
       "    <tr>\n",
       "      <th>Annadale-Huguenot-Prince's Bay-Eltingville</th>\n",
       "      <td>424</td>\n",
       "    </tr>\n",
       "    <tr>\n",
       "      <th>Arden Heights</th>\n",
       "      <td>256</td>\n",
       "    </tr>\n",
       "    <tr>\n",
       "      <th>Astoria</th>\n",
       "      <td>1260</td>\n",
       "    </tr>\n",
       "  </tbody>\n",
       "</table>\n",
       "</div>"
      ],
      "text/plain": [
       "                                            Permit Status\n",
       "NTA_NAME                                                 \n",
       "Airport                                                16\n",
       "Allerton-Pelham Gardens                               167\n",
       "Annadale-Huguenot-Prince's Bay-Eltingville            424\n",
       "Arden Heights                                         256\n",
       "Astoria                                              1260"
      ]
     },
     "execution_count": 77,
     "metadata": {},
     "output_type": "execute_result"
    }
   ],
   "source": [
    "df_nta_work = pd.DataFrame(df[df['Filing Date Year'] == 2010].groupby(['NTA_NAME']).count()[\"Permit Status\"])\n",
    "df_nta_work.head()"
   ]
  },
  {
   "cell_type": "markdown",
   "metadata": {},
   "source": [
    "##### Create dataframe of population at neighborhood level. We have the population for years-2000,2010"
   ]
  },
  {
   "cell_type": "code",
   "execution_count": 78,
   "metadata": {},
   "outputs": [],
   "source": [
    "df_nta_demograph = pd.read_csv(\"Census_Demographics_at_the_Neighborhood_Tabulation_Area__NTA__level.csv\")"
   ]
  },
  {
   "cell_type": "code",
   "execution_count": 79,
   "metadata": {},
   "outputs": [
    {
     "data": {
      "text/html": [
       "<div>\n",
       "<style scoped>\n",
       "    .dataframe tbody tr th:only-of-type {\n",
       "        vertical-align: middle;\n",
       "    }\n",
       "\n",
       "    .dataframe tbody tr th {\n",
       "        vertical-align: top;\n",
       "    }\n",
       "\n",
       "    .dataframe thead th {\n",
       "        text-align: right;\n",
       "    }\n",
       "</style>\n",
       "<table border=\"1\" class=\"dataframe\">\n",
       "  <thead>\n",
       "    <tr style=\"text-align: right;\">\n",
       "      <th></th>\n",
       "      <th>Geographic Area - Borough</th>\n",
       "      <th>Geographic Area - 2010 Census FIPS County Code</th>\n",
       "      <th>Geographic Area - Neighborhood Tabulation Area (NTA)* Code</th>\n",
       "      <th>Geographic Area - Neighborhood Tabulation Area (NTA)* Name</th>\n",
       "      <th>Total Population 2000 Number</th>\n",
       "      <th>Total Population 2010 Number</th>\n",
       "      <th>Total Population Change 2000-2010 Number</th>\n",
       "      <th>Total Population Change 2000-2010 Percent</th>\n",
       "    </tr>\n",
       "  </thead>\n",
       "  <tbody>\n",
       "    <tr>\n",
       "      <th>0</th>\n",
       "      <td>Bronx</td>\n",
       "      <td>5.0</td>\n",
       "      <td>BX01</td>\n",
       "      <td>Claremont-Bathgate</td>\n",
       "      <td>28149.0</td>\n",
       "      <td>31078.0</td>\n",
       "      <td>2929.0</td>\n",
       "      <td>10.4</td>\n",
       "    </tr>\n",
       "    <tr>\n",
       "      <th>1</th>\n",
       "      <td>Bronx</td>\n",
       "      <td>5.0</td>\n",
       "      <td>BX03</td>\n",
       "      <td>Eastchester-Edenwald-Baychester</td>\n",
       "      <td>35422.0</td>\n",
       "      <td>34517.0</td>\n",
       "      <td>-905.0</td>\n",
       "      <td>-2.6</td>\n",
       "    </tr>\n",
       "    <tr>\n",
       "      <th>2</th>\n",
       "      <td>Bronx</td>\n",
       "      <td>5.0</td>\n",
       "      <td>BX05</td>\n",
       "      <td>Bedford Park-Fordham North</td>\n",
       "      <td>55329.0</td>\n",
       "      <td>54415.0</td>\n",
       "      <td>-914.0</td>\n",
       "      <td>-1.7</td>\n",
       "    </tr>\n",
       "    <tr>\n",
       "      <th>3</th>\n",
       "      <td>Bronx</td>\n",
       "      <td>5.0</td>\n",
       "      <td>BX06</td>\n",
       "      <td>Belmont</td>\n",
       "      <td>25967.0</td>\n",
       "      <td>27378.0</td>\n",
       "      <td>1411.0</td>\n",
       "      <td>5.4</td>\n",
       "    </tr>\n",
       "    <tr>\n",
       "      <th>4</th>\n",
       "      <td>Bronx</td>\n",
       "      <td>5.0</td>\n",
       "      <td>BX07</td>\n",
       "      <td>Bronxdale</td>\n",
       "      <td>34309.0</td>\n",
       "      <td>35538.0</td>\n",
       "      <td>1229.0</td>\n",
       "      <td>3.6</td>\n",
       "    </tr>\n",
       "  </tbody>\n",
       "</table>\n",
       "</div>"
      ],
      "text/plain": [
       "  Geographic Area - Borough  Geographic Area - 2010 Census FIPS County Code  \\\n",
       "0                     Bronx                                             5.0   \n",
       "1                     Bronx                                             5.0   \n",
       "2                     Bronx                                             5.0   \n",
       "3                     Bronx                                             5.0   \n",
       "4                     Bronx                                             5.0   \n",
       "\n",
       "  Geographic Area - Neighborhood Tabulation Area (NTA)* Code  \\\n",
       "0                                               BX01           \n",
       "1                                               BX03           \n",
       "2                                               BX05           \n",
       "3                                               BX06           \n",
       "4                                               BX07           \n",
       "\n",
       "  Geographic Area - Neighborhood Tabulation Area (NTA)* Name  \\\n",
       "0                                 Claremont-Bathgate           \n",
       "1                    Eastchester-Edenwald-Baychester           \n",
       "2                         Bedford Park-Fordham North           \n",
       "3                                            Belmont           \n",
       "4                                          Bronxdale           \n",
       "\n",
       "   Total Population 2000 Number  Total Population 2010 Number  \\\n",
       "0                       28149.0                       31078.0   \n",
       "1                       35422.0                       34517.0   \n",
       "2                       55329.0                       54415.0   \n",
       "3                       25967.0                       27378.0   \n",
       "4                       34309.0                       35538.0   \n",
       "\n",
       "   Total Population Change 2000-2010 Number  \\\n",
       "0                                    2929.0   \n",
       "1                                    -905.0   \n",
       "2                                    -914.0   \n",
       "3                                    1411.0   \n",
       "4                                    1229.0   \n",
       "\n",
       "   Total Population Change 2000-2010 Percent  \n",
       "0                                       10.4  \n",
       "1                                       -2.6  \n",
       "2                                       -1.7  \n",
       "3                                        5.4  \n",
       "4                                        3.6  "
      ]
     },
     "execution_count": 79,
     "metadata": {},
     "output_type": "execute_result"
    }
   ],
   "source": [
    "df_nta_demograph.head(5)"
   ]
  },
  {
   "cell_type": "markdown",
   "metadata": {},
   "source": [
    "##### Merge the two dataframes- count of permits and population at neighborhood level"
   ]
  },
  {
   "cell_type": "code",
   "execution_count": 80,
   "metadata": {},
   "outputs": [],
   "source": [
    "df_nta_merge = df_nta_work.join(df_nta_demograph.set_index('Geographic Area - Neighborhood Tabulation Area (NTA)* Name'), how=\"left\")"
   ]
  },
  {
   "cell_type": "code",
   "execution_count": 81,
   "metadata": {},
   "outputs": [
    {
     "data": {
      "text/html": [
       "<div>\n",
       "<style scoped>\n",
       "    .dataframe tbody tr th:only-of-type {\n",
       "        vertical-align: middle;\n",
       "    }\n",
       "\n",
       "    .dataframe tbody tr th {\n",
       "        vertical-align: top;\n",
       "    }\n",
       "\n",
       "    .dataframe thead th {\n",
       "        text-align: right;\n",
       "    }\n",
       "</style>\n",
       "<table border=\"1\" class=\"dataframe\">\n",
       "  <thead>\n",
       "    <tr style=\"text-align: right;\">\n",
       "      <th></th>\n",
       "      <th>Permit Status</th>\n",
       "      <th>Geographic Area - Borough</th>\n",
       "      <th>Geographic Area - 2010 Census FIPS County Code</th>\n",
       "      <th>Geographic Area - Neighborhood Tabulation Area (NTA)* Code</th>\n",
       "      <th>Total Population 2000 Number</th>\n",
       "      <th>Total Population 2010 Number</th>\n",
       "      <th>Total Population Change 2000-2010 Number</th>\n",
       "      <th>Total Population Change 2000-2010 Percent</th>\n",
       "    </tr>\n",
       "  </thead>\n",
       "  <tbody>\n",
       "    <tr>\n",
       "      <th>Airport</th>\n",
       "      <td>16</td>\n",
       "      <td>Queens</td>\n",
       "      <td>81.0</td>\n",
       "      <td>QN98</td>\n",
       "      <td>0.0</td>\n",
       "      <td>0.0</td>\n",
       "      <td>0.0</td>\n",
       "      <td>NaN</td>\n",
       "    </tr>\n",
       "    <tr>\n",
       "      <th>Allerton-Pelham Gardens</th>\n",
       "      <td>167</td>\n",
       "      <td>Bronx</td>\n",
       "      <td>5.0</td>\n",
       "      <td>BX31</td>\n",
       "      <td>28510.0</td>\n",
       "      <td>28903.0</td>\n",
       "      <td>393.0</td>\n",
       "      <td>1.4</td>\n",
       "    </tr>\n",
       "    <tr>\n",
       "      <th>Annadale-Huguenot-Prince's Bay-Eltingville</th>\n",
       "      <td>424</td>\n",
       "      <td>Staten Island</td>\n",
       "      <td>85.0</td>\n",
       "      <td>SI01</td>\n",
       "      <td>26376.0</td>\n",
       "      <td>27770.0</td>\n",
       "      <td>1394.0</td>\n",
       "      <td>5.3</td>\n",
       "    </tr>\n",
       "    <tr>\n",
       "      <th>Arden Heights</th>\n",
       "      <td>256</td>\n",
       "      <td>Staten Island</td>\n",
       "      <td>85.0</td>\n",
       "      <td>SI48</td>\n",
       "      <td>24996.0</td>\n",
       "      <td>25238.0</td>\n",
       "      <td>242.0</td>\n",
       "      <td>1.0</td>\n",
       "    </tr>\n",
       "    <tr>\n",
       "      <th>Astoria</th>\n",
       "      <td>1260</td>\n",
       "      <td>Queens</td>\n",
       "      <td>81.0</td>\n",
       "      <td>QN70</td>\n",
       "      <td>89122.0</td>\n",
       "      <td>78793.0</td>\n",
       "      <td>-10329.0</td>\n",
       "      <td>-11.6</td>\n",
       "    </tr>\n",
       "  </tbody>\n",
       "</table>\n",
       "</div>"
      ],
      "text/plain": [
       "                                            Permit Status  \\\n",
       "Airport                                                16   \n",
       "Allerton-Pelham Gardens                               167   \n",
       "Annadale-Huguenot-Prince's Bay-Eltingville            424   \n",
       "Arden Heights                                         256   \n",
       "Astoria                                              1260   \n",
       "\n",
       "                                           Geographic Area - Borough  \\\n",
       "Airport                                                       Queens   \n",
       "Allerton-Pelham Gardens                                        Bronx   \n",
       "Annadale-Huguenot-Prince's Bay-Eltingville             Staten Island   \n",
       "Arden Heights                                          Staten Island   \n",
       "Astoria                                                       Queens   \n",
       "\n",
       "                                            Geographic Area - 2010 Census FIPS County Code  \\\n",
       "Airport                                                                               81.0   \n",
       "Allerton-Pelham Gardens                                                                5.0   \n",
       "Annadale-Huguenot-Prince's Bay-Eltingville                                            85.0   \n",
       "Arden Heights                                                                         85.0   \n",
       "Astoria                                                                               81.0   \n",
       "\n",
       "                                           Geographic Area - Neighborhood Tabulation Area (NTA)* Code  \\\n",
       "Airport                                                                                  QN98           \n",
       "Allerton-Pelham Gardens                                                                  BX31           \n",
       "Annadale-Huguenot-Prince's Bay-Eltingville                                               SI01           \n",
       "Arden Heights                                                                            SI48           \n",
       "Astoria                                                                                  QN70           \n",
       "\n",
       "                                            Total Population 2000 Number  \\\n",
       "Airport                                                              0.0   \n",
       "Allerton-Pelham Gardens                                          28510.0   \n",
       "Annadale-Huguenot-Prince's Bay-Eltingville                       26376.0   \n",
       "Arden Heights                                                    24996.0   \n",
       "Astoria                                                          89122.0   \n",
       "\n",
       "                                            Total Population 2010 Number  \\\n",
       "Airport                                                              0.0   \n",
       "Allerton-Pelham Gardens                                          28903.0   \n",
       "Annadale-Huguenot-Prince's Bay-Eltingville                       27770.0   \n",
       "Arden Heights                                                    25238.0   \n",
       "Astoria                                                          78793.0   \n",
       "\n",
       "                                            Total Population Change 2000-2010 Number  \\\n",
       "Airport                                                                          0.0   \n",
       "Allerton-Pelham Gardens                                                        393.0   \n",
       "Annadale-Huguenot-Prince's Bay-Eltingville                                    1394.0   \n",
       "Arden Heights                                                                  242.0   \n",
       "Astoria                                                                     -10329.0   \n",
       "\n",
       "                                            Total Population Change 2000-2010 Percent  \n",
       "Airport                                                                           NaN  \n",
       "Allerton-Pelham Gardens                                                           1.4  \n",
       "Annadale-Huguenot-Prince's Bay-Eltingville                                        5.3  \n",
       "Arden Heights                                                                     1.0  \n",
       "Astoria                                                                         -11.6  "
      ]
     },
     "execution_count": 81,
     "metadata": {},
     "output_type": "execute_result"
    }
   ],
   "source": [
    "df_nta_merge.head(5)"
   ]
  },
  {
   "cell_type": "code",
   "execution_count": 82,
   "metadata": {},
   "outputs": [],
   "source": [
    "df_nta_merge = df_nta_merge.dropna()"
   ]
  },
  {
   "cell_type": "code",
   "execution_count": 83,
   "metadata": {},
   "outputs": [
    {
     "data": {
      "text/plain": [
       "<function matplotlib.pyplot.show(*args, **kw)>"
      ]
     },
     "execution_count": 83,
     "metadata": {},
     "output_type": "execute_result"
    },
    {
     "data": {
      "image/png": "[encoded data removed]",
      "text/plain": [
       "<Figure size 432x288 with 1 Axes>"
      ]
     },
     "metadata": {
      "needs_background": "light"
     },
     "output_type": "display_data"
    }
   ],
   "source": [
    "ax=sns.scatterplot(x=\"Permit Status\",y=\"Total Population 2010 Number\",data=df_nta_merge)\n",
    "ax.set(xlabel='Count of permits',title=\"No. of permits vs population\")\n",
    "plt.show"
   ]
  },
  {
   "cell_type": "markdown",
   "metadata": {},
   "source": [
    "##### We observe a linear relationship. We need to check if the linear relationship is statistically significant."
   ]
  },
  {
   "cell_type": "code",
   "execution_count": 84,
   "metadata": {},
   "outputs": [],
   "source": [
    "X = sm.add_constant(df_nta_merge['Permit Status'])\n",
    "y = df_nta_merge['Total Population 2010 Number']"
   ]
  },
  {
   "cell_type": "markdown",
   "metadata": {},
   "source": [
    "##### Create a linear model with predictor as count of no. of permits and predicted value as Total Population"
   ]
  },
  {
   "cell_type": "code",
   "execution_count": 85,
   "metadata": {},
   "outputs": [
    {
     "name": "stdout",
     "output_type": "stream",
     "text": [
      "                                 OLS Regression Results                                 \n",
      "========================================================================================\n",
      "Dep. Variable:     Total Population 2010 Number   R-squared:                       0.097\n",
      "Model:                                      OLS   Adj. R-squared:                  0.092\n",
      "Method:                           Least Squares   F-statistic:                     19.90\n",
      "Date:                          Tue, 02 Apr 2019   Prob (F-statistic):           1.41e-05\n",
      "Time:                                  14:47:26   Log-Likelihood:                -2126.2\n",
      "No. Observations:                           187   AIC:                             4256.\n",
      "Df Residuals:                               185   BIC:                             4263.\n",
      "Df Model:                                     1                                         \n",
      "Covariance Type:                      nonrobust                                         \n",
      "=================================================================================\n",
      "                    coef    std err          t      P>|t|      [0.025      0.975]\n",
      "---------------------------------------------------------------------------------\n",
      "const          3.728e+04   1903.748     19.584      0.000    3.35e+04     4.1e+04\n",
      "Permit Status     7.2775      1.631      4.461      0.000       4.059      10.496\n",
      "==============================================================================\n",
      "Omnibus:                       23.814   Durbin-Watson:                   1.878\n",
      "Prob(Omnibus):                  0.000   Jarque-Bera (JB):               35.054\n",
      "Skew:                           0.733   Prob(JB):                     2.44e-08\n",
      "Kurtosis:                       4.533   Cond. No.                     1.44e+03\n",
      "==============================================================================\n",
      "\n",
      "Warnings:\n",
      "[1] Standard Errors assume that the covariance matrix of the errors is correctly specified.\n",
      "[2] The condition number is large, 1.44e+03. This might indicate that there are\n",
      "strong multicollinearity or other numerical problems.\n"
     ]
    }
   ],
   "source": [
    "model = sm.OLS(y, X)\n",
    "results = model.fit()\n",
    "print(results.summary())"
   ]
  },
  {
   "cell_type": "markdown",
   "metadata": {},
   "source": [
    "##### Null hypothesis is coefficient of count of permits is zero. We get p-value= 0. Thus we can reject the null hypothesis at 0.05 level of significance. "
   ]
  },
  {
   "cell_type": "markdown",
   "metadata": {},
   "source": [
    "##### Create dataframe of count of permits at neighborhood level for year 2000"
   ]
  },
  {
   "cell_type": "code",
   "execution_count": 86,
   "metadata": {},
   "outputs": [
    {
     "data": {
      "text/html": [
       "<div>\n",
       "<style scoped>\n",
       "    .dataframe tbody tr th:only-of-type {\n",
       "        vertical-align: middle;\n",
       "    }\n",
       "\n",
       "    .dataframe tbody tr th {\n",
       "        vertical-align: top;\n",
       "    }\n",
       "\n",
       "    .dataframe thead th {\n",
       "        text-align: right;\n",
       "    }\n",
       "</style>\n",
       "<table border=\"1\" class=\"dataframe\">\n",
       "  <thead>\n",
       "    <tr style=\"text-align: right;\">\n",
       "      <th></th>\n",
       "      <th>Permit Status</th>\n",
       "    </tr>\n",
       "    <tr>\n",
       "      <th>NTA_NAME</th>\n",
       "      <th></th>\n",
       "    </tr>\n",
       "  </thead>\n",
       "  <tbody>\n",
       "    <tr>\n",
       "      <th>Allerton-Pelham Gardens</th>\n",
       "      <td>184</td>\n",
       "    </tr>\n",
       "    <tr>\n",
       "      <th>Annadale-Huguenot-Prince's Bay-Eltingville</th>\n",
       "      <td>768</td>\n",
       "    </tr>\n",
       "    <tr>\n",
       "      <th>Arden Heights</th>\n",
       "      <td>581</td>\n",
       "    </tr>\n",
       "    <tr>\n",
       "      <th>Astoria</th>\n",
       "      <td>649</td>\n",
       "    </tr>\n",
       "    <tr>\n",
       "      <th>Auburndale</th>\n",
       "      <td>205</td>\n",
       "    </tr>\n",
       "  </tbody>\n",
       "</table>\n",
       "</div>"
      ],
      "text/plain": [
       "                                            Permit Status\n",
       "NTA_NAME                                                 \n",
       "Allerton-Pelham Gardens                               184\n",
       "Annadale-Huguenot-Prince's Bay-Eltingville            768\n",
       "Arden Heights                                         581\n",
       "Astoria                                               649\n",
       "Auburndale                                            205"
      ]
     },
     "execution_count": 86,
     "metadata": {},
     "output_type": "execute_result"
    }
   ],
   "source": [
    "df_nta_work2 = pd.DataFrame(df[df['Filing Date Year'] == 2000].groupby(['NTA_NAME']).count()[\"Permit Status\"])\n",
    "df_nta_work2.head()"
   ]
  },
  {
   "cell_type": "markdown",
   "metadata": {},
   "source": [
    "##### Merge the two dataframes- count of permits and population at neighborhood level"
   ]
  },
  {
   "cell_type": "code",
   "execution_count": 87,
   "metadata": {},
   "outputs": [],
   "source": [
    "df_nta_merge2 = df_nta_work2.join(df_nta_demograph.set_index('Geographic Area - Neighborhood Tabulation Area (NTA)* Name'), how=\"left\")"
   ]
  },
  {
   "cell_type": "code",
   "execution_count": 88,
   "metadata": {},
   "outputs": [],
   "source": [
    "df_nta_merge2 = df_nta_merge2.dropna()"
   ]
  },
  {
   "cell_type": "code",
   "execution_count": 89,
   "metadata": {},
   "outputs": [
    {
     "data": {
      "image/png": "[encoded data removed]",
      "text/plain": [
       "<Figure size 432x288 with 1 Axes>"
      ]
     },
     "metadata": {
      "needs_background": "light"
     },
     "output_type": "display_data"
    }
   ],
   "source": [
    "ax=sns.scatterplot(x=\"Permit Status\",y=\"Total Population 2000 Number\",data=df_nta_merge2)\n"
   ]
  },
  {
   "cell_type": "markdown",
   "metadata": {},
   "source": [
    "##### We observe a linear relationship. We need to check if it is statistically significant."
   ]
  },
  {
   "cell_type": "code",
   "execution_count": 90,
   "metadata": {},
   "outputs": [],
   "source": [
    "X = sm.add_constant(df_nta_merge2['Permit Status'])\n",
    "y = df_nta_merge2['Total Population 2000 Number']"
   ]
  },
  {
   "cell_type": "markdown",
   "metadata": {},
   "source": [
    "##### Create a linear model with predictor as count of no. of permits and predicted value as Total Population"
   ]
  },
  {
   "cell_type": "code",
   "execution_count": 91,
   "metadata": {},
   "outputs": [
    {
     "name": "stdout",
     "output_type": "stream",
     "text": [
      "                                 OLS Regression Results                                 \n",
      "========================================================================================\n",
      "Dep. Variable:     Total Population 2000 Number   R-squared:                       0.038\n",
      "Model:                                      OLS   Adj. R-squared:                  0.033\n",
      "Method:                           Least Squares   F-statistic:                     7.319\n",
      "Date:                          Tue, 02 Apr 2019   Prob (F-statistic):            0.00746\n",
      "Time:                                  14:48:08   Log-Likelihood:                -2135.3\n",
      "No. Observations:                           187   AIC:                             4275.\n",
      "Df Residuals:                               185   BIC:                             4281.\n",
      "Df Model:                                     1                                         \n",
      "Covariance Type:                      nonrobust                                         \n",
      "=================================================================================\n",
      "                    coef    std err          t      P>|t|      [0.025      0.975]\n",
      "---------------------------------------------------------------------------------\n",
      "const          3.867e+04   1926.208     20.074      0.000    3.49e+04    4.25e+04\n",
      "Permit Status     5.5781      2.062      2.705      0.007       1.510       9.646\n",
      "==============================================================================\n",
      "Omnibus:                       33.693   Durbin-Watson:                   1.888\n",
      "Prob(Omnibus):                  0.000   Jarque-Bera (JB):               50.139\n",
      "Skew:                           1.004   Prob(JB):                     1.30e-11\n",
      "Kurtosis:                       4.550   Cond. No.                     1.11e+03\n",
      "==============================================================================\n",
      "\n",
      "Warnings:\n",
      "[1] Standard Errors assume that the covariance matrix of the errors is correctly specified.\n",
      "[2] The condition number is large, 1.11e+03. This might indicate that there are\n",
      "strong multicollinearity or other numerical problems.\n"
     ]
    }
   ],
   "source": [
    "model = sm.OLS(y, X)\n",
    "results = model.fit()\n",
    "print(results.summary())"
   ]
  },
  {
   "cell_type": "markdown",
   "metadata": {},
   "source": [
    "##### Null hypothesis is coefficient of count of permits is zero. We get p-value= 0.007. Thus we can reject the null hypothesis at 0.05 level of significance. "
   ]
  },
  {
   "cell_type": "markdown",
   "metadata": {},
   "source": [
    "##### There is a linear relationship between no. of permits and population."
   ]
  },
  {
   "cell_type": "markdown",
   "metadata": {},
   "source": [
    "##### 2.1 Hypothesis 2: Is there a linear relationship between no. of coffee shops, healthy food restaurants and no. of permits???"
   ]
  },
  {
   "cell_type": "markdown",
   "metadata": {},
   "source": [
    "##### Read NYC restaurant data"
   ]
  },
  {
   "cell_type": "code",
   "execution_count": 92,
   "metadata": {},
   "outputs": [],
   "source": [
    "df_restaurant=pd.read_csv(\"DOHMH_New_York_City_Restaurant_Inspection_Results.csv\")"
   ]
  },
  {
   "cell_type": "markdown",
   "metadata": {},
   "source": [
    "##### Only keep data for coffee shops and healthy food restaurants. These two kinds of cuisines have often been used as a proxy for gentrification- an indicator for influx of more affluent residents."
   ]
  },
  {
   "cell_type": "code",
   "execution_count": 93,
   "metadata": {},
   "outputs": [],
   "source": [
    "df_restaurant2 = df_restaurant[df_restaurant['CUISINE DESCRIPTION'].isin(['Bagels/Pretzels','CafÃ©/Coffee/Tea','Donuts','Salads','Juice, Smoothies, Fruit Salads','Vegetarian'])]"
   ]
  },
  {
   "cell_type": "markdown",
   "metadata": {},
   "source": [
    "##### Create GRADE DATE YEAR column from GRADE DATE column"
   ]
  },
  {
   "cell_type": "code",
   "execution_count": 94,
   "metadata": {},
   "outputs": [
    {
     "name": "stderr",
     "output_type": "stream",
     "text": [
      "c:\\users\\karan\\appdata\\local\\programs\\python\\python36\\lib\\site-packages\\ipykernel_launcher.py:1: SettingWithCopyWarning: \n",
      "A value is trying to be set on a copy of a slice from a DataFrame.\n",
      "Try using .loc[row_indexer,col_indexer] = value instead\n",
      "\n",
      "See the caveats in the documentation: http://pandas.pydata.org/pandas-docs/stable/indexing.html#indexing-view-versus-copy\n",
      "  \"\"\"Entry point for launching an IPython kernel.\n"
     ]
    }
   ],
   "source": [
    "df_restaurant2[\"GRADE DATE YEAR\"] = df_restaurant2.apply(lambda row: getYear(row['GRADE DATE']),axis=1)"
   ]
  },
  {
   "cell_type": "markdown",
   "metadata": {},
   "source": [
    "##### Group restaurants by zipcode"
   ]
  },
  {
   "cell_type": "code",
   "execution_count": 95,
   "metadata": {},
   "outputs": [],
   "source": [
    "df_restaurant3 = pd.DataFrame(df_restaurant2.groupby([\"ZIPCODE\"]).count()[\"GRADE\"]).reset_index()"
   ]
  },
  {
   "cell_type": "markdown",
   "metadata": {},
   "source": [
    "##### Group permits  by Zipcode"
   ]
  },
  {
   "cell_type": "markdown",
   "metadata": {},
   "source": [
    "##### Note: NYC Restaurant Data is only available from 2014 to 2019. Thus we filter our permits dataset to include only these years"
   ]
  },
  {
   "cell_type": "code",
   "execution_count": 96,
   "metadata": {},
   "outputs": [],
   "source": [
    "df_select_years = df[df[\"Filing Date Year\"].isin([2014,2015,2016,2017,2018,2019])]"
   ]
  },
  {
   "cell_type": "code",
   "execution_count": 97,
   "metadata": {},
   "outputs": [],
   "source": [
    "df_zipcode_work = pd.DataFrame(df_select_years.groupby([\"Zip Code\"]).count()['Permit Status']).reset_index()"
   ]
  },
  {
   "cell_type": "markdown",
   "metadata": {},
   "source": [
    "##### Merge count of restaurants and count of permits at zip code level"
   ]
  },
  {
   "cell_type": "code",
   "execution_count": 98,
   "metadata": {},
   "outputs": [],
   "source": [
    "df_zipcode_merge = df_restaurant3.join(df_zipcode_work.set_index(\"Zip Code\"),how=\"inner\",on=\"ZIPCODE\")"
   ]
  },
  {
   "cell_type": "code",
   "execution_count": 99,
   "metadata": {},
   "outputs": [
    {
     "data": {
      "text/plain": [
       "<function matplotlib.pyplot.show(*args, **kw)>"
      ]
     },
     "execution_count": 99,
     "metadata": {},
     "output_type": "execute_result"
    },
    {
     "data": {
      "image/png": "[encoded data removed]",
      "text/plain": [
       "<Figure size 432x288 with 1 Axes>"
      ]
     },
     "metadata": {
      "needs_background": "light"
     },
     "output_type": "display_data"
    }
   ],
   "source": [
    "ax=sns.scatterplot(x=\"GRADE\",y=\"Permit Status\",data=df_zipcode_merge)\n",
    "ax.set(xlabel='Count of restaurants',ylabel=\"Count of permits\",title=\"No. of permits vs no. of restaurants\")\n",
    "plt.show"
   ]
  },
  {
   "cell_type": "markdown",
   "metadata": {},
   "source": [
    "##### Create a linear model with predictor as count of  permits and predicted value as count of restaurants"
   ]
  },
  {
   "cell_type": "code",
   "execution_count": 100,
   "metadata": {},
   "outputs": [
    {
     "name": "stdout",
     "output_type": "stream",
     "text": [
      "                            OLS Regression Results                            \n",
      "==============================================================================\n",
      "Dep. Variable:                  GRADE   R-squared:                       0.747\n",
      "Model:                            OLS   Adj. R-squared:                  0.746\n",
      "Method:                 Least Squares   F-statistic:                     564.5\n",
      "Date:                Tue, 02 Apr 2019   Prob (F-statistic):           6.17e-59\n",
      "Time:                        14:49:09   Log-Likelihood:                -1050.9\n",
      "No. Observations:                 193   AIC:                             2106.\n",
      "Df Residuals:                     191   BIC:                             2112.\n",
      "Df Model:                           1                                         \n",
      "Covariance Type:            nonrobust                                         \n",
      "=================================================================================\n",
      "                    coef    std err          t      P>|t|      [0.025      0.975]\n",
      "---------------------------------------------------------------------------------\n",
      "const           -12.6782      6.123     -2.071      0.040     -24.755      -0.601\n",
      "Permit Status     0.0224      0.001     23.759      0.000       0.021       0.024\n",
      "==============================================================================\n",
      "Omnibus:                       90.701   Durbin-Watson:                   1.303\n",
      "Prob(Omnibus):                  0.000   Jarque-Bera (JB):              906.860\n",
      "Skew:                           1.479   Prob(JB):                    1.20e-197\n",
      "Kurtosis:                      13.199   Cond. No.                     9.82e+03\n",
      "==============================================================================\n",
      "\n",
      "Warnings:\n",
      "[1] Standard Errors assume that the covariance matrix of the errors is correctly specified.\n",
      "[2] The condition number is large, 9.82e+03. This might indicate that there are\n",
      "strong multicollinearity or other numerical problems.\n"
     ]
    }
   ],
   "source": [
    "X = sm.add_constant(df_zipcode_merge['Permit Status'])\n",
    "y = df_zipcode_merge['GRADE']\n",
    "model = sm.OLS(y, X)\n",
    "results = model.fit()\n",
    "print(results.summary())"
   ]
  },
  {
   "cell_type": "markdown",
   "metadata": {},
   "source": [
    "##### Null hypothese is coefficient of count of permits is zero. We get p-value= 0. Thus we can reject the null hypothesis at 0.05 level of significance. "
   ]
  },
  {
   "cell_type": "markdown",
   "metadata": {},
   "source": [
    "##### Thus we can say that there is a relationship between count of permits and count of restaurants(coffee shops and healthy food restaurants)"
   ]
  },
  {
   "cell_type": "markdown",
   "metadata": {},
   "source": [
    "##### The count of permits in a neighbourhood can be used to predict if it is an affluent neighborhood or not since the count of restaurants is a proxy for gentrification."
   ]
  },
  {
   "cell_type": "markdown",
   "metadata": {},
   "source": [
    "#### 2.3 Hypothesis 3: Is there a linear relationship between no. of permits for major development activity and complaints received by Department of Buildings "
   ]
  },
  {
   "cell_type": "markdown",
   "metadata": {},
   "source": [
    "##### Read dataframe of complaints received by DOB"
   ]
  },
  {
   "cell_type": "code",
   "execution_count": 101,
   "metadata": {},
   "outputs": [
    {
     "name": "stderr",
     "output_type": "stream",
     "text": [
      "c:\\users\\karan\\appdata\\local\\programs\\python\\python36\\lib\\site-packages\\IPython\\core\\interactiveshell.py:3020: DtypeWarning: Columns (4,7,9) have mixed types. Specify dtype option on import or set low_memory=False.\n",
      "  interactivity=interactivity, compiler=compiler, result=result)\n"
     ]
    }
   ],
   "source": [
    "df_complaints=pd.read_csv(\"DOB_Complaints_Received.csv\")"
   ]
  },
  {
   "cell_type": "markdown",
   "metadata": {},
   "source": [
    "##### Create Date Entered Year column from Data Entered columns"
   ]
  },
  {
   "cell_type": "code",
   "execution_count": 102,
   "metadata": {},
   "outputs": [],
   "source": [
    "df_complaints[\"Date Entered Year\"] = df_complaints.apply(lambda row: getYear(row['Date Entered']),axis=1)"
   ]
  },
  {
   "cell_type": "code",
   "execution_count": 103,
   "metadata": {},
   "outputs": [
    {
     "data": {
      "text/plain": [
       "array([1988, 1989, 1990, 1991, 1992, 1993, 1994, 1995, 1996, 2001, 1997,\n",
       "       1998, 1999, 2000, 2002, 2003, 2004, 2005, 2006, 2007, 2008, 2009,\n",
       "       2010, 2011, 2012, 2013, 2014, 2015, 2016, 2017, 2018, 2019],\n",
       "      dtype=int64)"
      ]
     },
     "execution_count": 103,
     "metadata": {},
     "output_type": "execute_result"
    }
   ],
   "source": [
    "df_complaints[\"Date Entered Year\"].unique()"
   ]
  },
  {
   "cell_type": "markdown",
   "metadata": {},
   "source": [
    "##### The years match years recorded in permits dataframe"
   ]
  },
  {
   "cell_type": "markdown",
   "metadata": {},
   "source": [
    "##### Find count of complaints by zip code"
   ]
  },
  {
   "cell_type": "code",
   "execution_count": 104,
   "metadata": {},
   "outputs": [],
   "source": [
    "df_complaints2 = pd.DataFrame(df_complaints.groupby([\"ZIP Code\"]).count()[\"Complaint Category\"]).reset_index()"
   ]
  },
  {
   "cell_type": "markdown",
   "metadata": {},
   "source": [
    "##### Correct numerical entries in Zip code column in complaints dataframe."
   ]
  },
  {
   "cell_type": "code",
   "execution_count": 105,
   "metadata": {},
   "outputs": [],
   "source": [
    "def getZip(code):\n",
    "    if isinstance(code,int):\n",
    "        return code\n",
    "    if isinstance(code,str):\n",
    "        code=code.strip()\n",
    "        if code.isdigit():\n",
    "            return int(code)\n",
    "        else:\n",
    "            return np.nan\n",
    "    return np.nan"
   ]
  },
  {
   "cell_type": "code",
   "execution_count": 106,
   "metadata": {},
   "outputs": [],
   "source": [
    "df_complaints2['ZIP Code']=df_complaints2.apply(lambda row: getZip(row['ZIP Code']),axis=1)"
   ]
  },
  {
   "cell_type": "markdown",
   "metadata": {},
   "source": [
    "##### Include only those permits that involve major development activity"
   ]
  },
  {
   "cell_type": "code",
   "execution_count": 107,
   "metadata": {},
   "outputs": [],
   "source": [
    "df_major_work = df[df[\"Job Type\"].isin([\"NB\",\"A1\",\"DM\"])]"
   ]
  },
  {
   "cell_type": "markdown",
   "metadata": {},
   "source": [
    "##### Get count of permits by zip code"
   ]
  },
  {
   "cell_type": "code",
   "execution_count": 108,
   "metadata": {},
   "outputs": [],
   "source": [
    "df_zipcode_work2 = pd.DataFrame(df_major_work.groupby([\"Zip Code\"]).count()['Permit Status']).reset_index()"
   ]
  },
  {
   "cell_type": "markdown",
   "metadata": {},
   "source": [
    "##### Merge dataframe of count of complaints and count of permits by zip code"
   ]
  },
  {
   "cell_type": "code",
   "execution_count": 109,
   "metadata": {},
   "outputs": [],
   "source": [
    "df_zipcode_merge5 = df_complaints2.join(df_zipcode_work2.set_index(\"Zip Code\"),how=\"inner\",on=\"ZIP Code\")"
   ]
  },
  {
   "cell_type": "code",
   "execution_count": 110,
   "metadata": {},
   "outputs": [
    {
     "data": {
      "text/plain": [
       "<function matplotlib.pyplot.show(*args, **kw)>"
      ]
     },
     "execution_count": 110,
     "metadata": {},
     "output_type": "execute_result"
    },
    {
     "data": {
      "image/png": "[encoded data removed]",
      "text/plain": [
       "<Figure size 432x288 with 1 Axes>"
      ]
     },
     "metadata": {
      "needs_background": "light"
     },
     "output_type": "display_data"
    }
   ],
   "source": [
    "ax= sns.scatterplot(x=\"Complaint Category\",y=\"Permit Status\",data=df_zipcode_merge5)\n",
    "ax.set(ylabel='Count of permits',xlabel=\"Count of complaints\",title=\"No. of permits vs no. of complaints\")\n",
    "plt.show"
   ]
  },
  {
   "cell_type": "markdown",
   "metadata": {},
   "source": [
    "##### Create linear model with predictor as count of permits and predicted value as count of complaints"
   ]
  },
  {
   "cell_type": "code",
   "execution_count": 111,
   "metadata": {},
   "outputs": [
    {
     "name": "stdout",
     "output_type": "stream",
     "text": [
      "                            OLS Regression Results                            \n",
      "==============================================================================\n",
      "Dep. Variable:     Complaint Category   R-squared:                       0.199\n",
      "Model:                            OLS   Adj. R-squared:                  0.196\n",
      "Method:                 Least Squares   F-statistic:                     62.26\n",
      "Date:                Tue, 02 Apr 2019   Prob (F-statistic):           9.30e-14\n",
      "Time:                        14:52:08   Log-Likelihood:                -2592.3\n",
      "No. Observations:                 253   AIC:                             5189.\n",
      "Df Residuals:                     251   BIC:                             5196.\n",
      "Df Model:                           1                                         \n",
      "Covariance Type:            nonrobust                                         \n",
      "=================================================================================\n",
      "                    coef    std err          t      P>|t|      [0.025      0.975]\n",
      "---------------------------------------------------------------------------------\n",
      "const          4730.0733    678.304      6.973      0.000    3394.180    6065.967\n",
      "Permit Status     0.8434      0.107      7.891      0.000       0.633       1.054\n",
      "==============================================================================\n",
      "Omnibus:                        8.396   Durbin-Watson:                   1.890\n",
      "Prob(Omnibus):                  0.015   Jarque-Bera (JB):                8.263\n",
      "Skew:                           0.409   Prob(JB):                       0.0161\n",
      "Kurtosis:                       3.339   Cond. No.                     1.00e+04\n",
      "==============================================================================\n",
      "\n",
      "Warnings:\n",
      "[1] Standard Errors assume that the covariance matrix of the errors is correctly specified.\n",
      "[2] The condition number is large,  1e+04. This might indicate that there are\n",
      "strong multicollinearity or other numerical problems.\n"
     ]
    }
   ],
   "source": [
    "X = sm.add_constant(df_zipcode_merge5['Permit Status'])\n",
    "y = df_zipcode_merge5[\"Complaint Category\"]\n",
    "model = sm.OLS(y, X)\n",
    "results = model.fit()\n",
    "print(results.summary())"
   ]
  },
  {
   "cell_type": "markdown",
   "metadata": {},
   "source": [
    "##### Null hypothese is coefficient of count of permits is zero. We get p-value= 0. Thus we can reject the null hypothesis at 0.05 level of significance. "
   ]
  },
  {
   "cell_type": "markdown",
   "metadata": {},
   "source": [
    "##### Thus there is a linear relationship between count of permits and count of complaints received by DOB"
   ]
  },
  {
   "cell_type": "markdown",
   "metadata": {},
   "source": [
    "##### We can use no. of permits as a predictor of population, no. of restaurants(coffee shops and healthy food restaurants) and no. of compliants received by DOB."
   ]
  },
  {
   "cell_type": "code",
   "execution_count": null,
   "metadata": {},
   "outputs": [],
   "source": []
  }
 ],
 "metadata": {
  "kernelspec": {
   "display_name": "Python 3",
   "language": "python",
   "name": "python3"
  },
  "language_info": {
   "codemirror_mode": {
    "name": "ipython",
    "version": 3
   },
   "file_extension": ".py",
   "mimetype": "text/x-python",
   "name": "python",
   "nbconvert_exporter": "python",
   "pygments_lexer": "ipython3",
   "version": "3.6.8"
  }
 },
 "nbformat": 4,
 "nbformat_minor": 2
}
